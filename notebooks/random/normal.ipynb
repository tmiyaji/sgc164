{
 "cells": [
  {
   "cell_type": "markdown",
   "metadata": {},
   "source": [
    "# 正規乱数生成の比較"
   ]
  },
  {
   "cell_type": "code",
   "execution_count": 1,
   "metadata": {},
   "outputs": [],
   "source": [
    "import random as rd\n",
    "from numpy import cos, sin, log, sqrt, pi"
   ]
  },
  {
   "cell_type": "markdown",
   "metadata": {},
   "source": [
    "ボックス・ミュラー法"
   ]
  },
  {
   "cell_type": "code",
   "execution_count": 2,
   "metadata": {},
   "outputs": [],
   "source": [
    "def BoxMuller():\n",
    "    x1,x2 = 1.0 - rd.random(), 1.0 - rd.random()\n",
    "    y1 = sqrt(-2*log(x1))*cos(2*pi*x2)\n",
    "    y2 = sqrt(-2*log(x1))*sin(2*pi*x2)\n",
    "    return y1, y2"
   ]
  },
  {
   "cell_type": "markdown",
   "metadata": {},
   "source": [
    "Marsagliaの極座標方式"
   ]
  },
  {
   "cell_type": "code",
   "execution_count": 3,
   "metadata": {},
   "outputs": [],
   "source": [
    "def Marsaglia():\n",
    "    S = 2\n",
    "    while S >= 1:\n",
    "        x1, x2 = -1 + 2 * rd.random(),-1 + 2 * rd.random()        \n",
    "        S = x1 * x1 + x2 * x2\n",
    "    y1 = x1 * sqrt(-2*log(S)/S)\n",
    "    y2 = x2 * sqrt(-2*log(S)/S)\n",
    "    return y1, y2"
   ]
  },
  {
   "cell_type": "code",
   "execution_count": 4,
   "metadata": {},
   "outputs": [],
   "source": [
    "N=1000000"
   ]
  },
  {
   "cell_type": "markdown",
   "metadata": {},
   "source": [
    "N個正規乱数を生成するのにかかる時間"
   ]
  },
  {
   "cell_type": "code",
   "execution_count": 8,
   "metadata": {},
   "outputs": [
    {
     "name": "stdout",
     "output_type": "stream",
     "text": [
      "CPU times: user 5.37 s, sys: 0 ns, total: 5.37 s\n",
      "Wall time: 5.37 s\n"
     ]
    }
   ],
   "source": [
    "%%time\n",
    "rd.seed(2020)\n",
    "for n in range(N):\n",
    "    y1,y2=BoxMuller()"
   ]
  },
  {
   "cell_type": "code",
   "execution_count": 9,
   "metadata": {},
   "outputs": [
    {
     "name": "stdout",
     "output_type": "stream",
     "text": [
      "CPU times: user 4.39 s, sys: 0 ns, total: 4.39 s\n",
      "Wall time: 4.38 s\n"
     ]
    }
   ],
   "source": [
    "%%time\n",
    "rd.seed(2020)\n",
    "for n in range(N):\n",
    "    y1,y2=Marsaglia()"
   ]
  },
  {
   "cell_type": "code",
   "execution_count": 10,
   "metadata": {},
   "outputs": [
    {
     "name": "stdout",
     "output_type": "stream",
     "text": [
      "CPU times: user 384 ms, sys: 0 ns, total: 384 ms\n",
      "Wall time: 380 ms\n"
     ]
    }
   ],
   "source": [
    "%%time\n",
    "rd.seed(2020)\n",
    "for n in range(N):\n",
    "    rd.gauss(0, 1)"
   ]
  },
  {
   "cell_type": "markdown",
   "metadata": {},
   "source": [
    "- 極座標方式の方が早い\n",
    "- 自分でPythonで書くよりもパッケージを使う方が早い"
   ]
  }
 ],
 "metadata": {
  "kernelspec": {
   "display_name": "Python 3",
   "language": "python",
   "name": "python3"
  },
  "language_info": {
   "codemirror_mode": {
    "name": "ipython",
    "version": 3
   },
   "file_extension": ".py",
   "mimetype": "text/x-python",
   "name": "python",
   "nbconvert_exporter": "python",
   "pygments_lexer": "ipython3",
   "version": "3.8.2"
  }
 },
 "nbformat": 4,
 "nbformat_minor": 4
}
