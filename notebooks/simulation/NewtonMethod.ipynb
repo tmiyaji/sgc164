{
 "cells": [
  {
   "cell_type": "markdown",
   "metadata": {},
   "source": [
    "# Newton法"
   ]
  },
  {
   "cell_type": "markdown",
   "metadata": {},
   "source": [
    "## $\\sqrt{2}$に収束する漸化式\n",
    "\n",
    "$$\n",
    "a_{n + 1} = \\frac{1}{2}\\left( a_n + \\frac{2}{a_n} \\right),\\quad a_0 > 0\n",
    "$$"
   ]
  },
  {
   "cell_type": "code",
   "execution_count": 1,
   "metadata": {},
   "outputs": [
    {
     "name": "stdout",
     "output_type": "stream",
     "text": [
      "1.0\n",
      "1.5\n",
      "1.4166666666666665\n",
      "1.4142156862745097\n",
      "1.4142135623746899\n",
      "1.414213562373095\n",
      "1.414213562373095\n",
      "1.414213562373095\n",
      "1.414213562373095\n",
      "1.414213562373095\n",
      "1.414213562373095\n"
     ]
    }
   ],
   "source": [
    "a = 1.0\n",
    "print(a)\n",
    "for n in range(10):\n",
    "    a = 0.5 * (a + 2/a)\n",
    "    print(a)"
   ]
  },
  {
   "cell_type": "markdown",
   "metadata": {},
   "source": [
    "## Newton法\n",
    "\n",
    "関数$f(x)$に対して$f(x) = 0$の解を求めたい．漸化式\n",
    "$$\n",
    "x_{n+1} = x_n - \\frac{f(x_n)}{f'(x_n)}\n",
    "$$\n",
    "によって数列を計算する．"
   ]
  },
  {
   "cell_type": "code",
   "execution_count": 2,
   "metadata": {},
   "outputs": [],
   "source": [
    "def f(x):\n",
    "    return x**2 - 2\n",
    "\n",
    "def df(x):\n",
    "    return 2*x"
   ]
  },
  {
   "cell_type": "markdown",
   "metadata": {},
   "source": [
    "初期値と反復回数を設定する"
   ]
  },
  {
   "cell_type": "code",
   "execution_count": 3,
   "metadata": {},
   "outputs": [],
   "source": [
    "x = 2.0\n",
    "N = 10"
   ]
  },
  {
   "cell_type": "markdown",
   "metadata": {},
   "source": [
    "ニュートン法で数列を生成する"
   ]
  },
  {
   "cell_type": "code",
   "execution_count": 4,
   "metadata": {},
   "outputs": [
    {
     "name": "stdout",
     "output_type": "stream",
     "text": [
      "2.0\n",
      "1.5\n",
      "1.4166666666666667\n",
      "1.4142156862745099\n",
      "1.4142135623746899\n",
      "1.4142135623730951\n",
      "1.414213562373095\n",
      "1.4142135623730951\n",
      "1.414213562373095\n",
      "1.4142135623730951\n",
      "1.414213562373095\n"
     ]
    }
   ],
   "source": [
    "print(x)\n",
    "for n in range(N):\n",
    "    x = x - f(x) / df(x)\n",
    "    print(x)"
   ]
  },
  {
   "cell_type": "markdown",
   "metadata": {},
   "source": [
    "初期値を$x = 2$とした場合，4ステップ目で既に$1.41421356$まで一致している．5ステップ目以降は二つの数値が入れ替わりに\n",
    "十分に収束しているようである\n",
    "\n",
    "精度の改善が見られないのに反復を繰り返すのは効率が悪い．反復終了の判定条件をつけよう．\n",
    "ここでは残差の絶対値が一定値以下になったら反復を停止して近似解を出力，\n",
    "または一定回数の反復で終了条件を満たさなかったらエラーを返すことにする．\n",
    "判定条件にはxの増分や相対残差，またはそれらの組み合わせを用いることもできる．"
   ]
  },
  {
   "cell_type": "code",
   "execution_count": 5,
   "metadata": {},
   "outputs": [],
   "source": [
    "def Newton(x, f, df, eps=1.0e-8, maxiter=10):\n",
    "    y = x\n",
    "    for n in range(maxiter):\n",
    "        y = y - f(y) / df(y)\n",
    "        if (abs(f(y)) < eps):\n",
    "            return y\n",
    "    print(\"収束しなかった\")"
   ]
  },
  {
   "cell_type": "code",
   "execution_count": 6,
   "metadata": {},
   "outputs": [
    {
     "data": {
      "text/plain": [
       "1.4142135623730951"
      ]
     },
     "execution_count": 6,
     "metadata": {},
     "output_type": "execute_result"
    }
   ],
   "source": [
    "Newton(2, f, df, eps=1e-14)"
   ]
  },
  {
   "cell_type": "markdown",
   "metadata": {},
   "source": [
    "計算精度には限界がある．倍精度で残差を$10^{-16}$まで小さくするのは望めない．"
   ]
  },
  {
   "cell_type": "code",
   "execution_count": 7,
   "metadata": {},
   "outputs": [
    {
     "name": "stdout",
     "output_type": "stream",
     "text": [
      "収束しなかった\n"
     ]
    }
   ],
   "source": [
    "Newton(2, f, df, eps=1e-16)"
   ]
  },
  {
   "cell_type": "markdown",
   "metadata": {},
   "source": [
    "## パッケージを使う\n",
    "\n",
    "詳しくは\n",
    "https://docs.scipy.org/doc/scipy/reference/generated/scipy.optimize.newton.html#scipy.optimize.newton"
   ]
  },
  {
   "cell_type": "code",
   "execution_count": 8,
   "metadata": {},
   "outputs": [
    {
     "data": {
      "text/plain": [
       "1.4142135623730954"
      ]
     },
     "execution_count": 8,
     "metadata": {},
     "output_type": "execute_result"
    }
   ],
   "source": [
    "from scipy.optimize import newton\n",
    "newton(f, 2)"
   ]
  },
  {
   "cell_type": "markdown",
   "metadata": {},
   "source": [
    "## 複素ニュートン法\n",
    "\n",
    "ニュートン法は複素関数にも拡張できる．例として$1$の$3$乗根を求めてみる．"
   ]
  },
  {
   "cell_type": "code",
   "execution_count": 9,
   "metadata": {},
   "outputs": [],
   "source": [
    "def f(z):\n",
    "    return z**3 - 1\n",
    "\n",
    "def df(z):\n",
    "    return 3*z**2"
   ]
  },
  {
   "cell_type": "code",
   "execution_count": 10,
   "metadata": {},
   "outputs": [
    {
     "data": {
      "text/plain": [
       "(-0.4999999999999555+0.8660254037846933j)"
      ]
     },
     "execution_count": 10,
     "metadata": {},
     "output_type": "execute_result"
    }
   ],
   "source": [
    "Newton(-1+1.j, f, df)"
   ]
  }
 ],
 "metadata": {
  "kernelspec": {
   "display_name": "Python 3",
   "language": "python",
   "name": "python3"
  },
  "language_info": {
   "codemirror_mode": {
    "name": "ipython",
    "version": 3
   },
   "file_extension": ".py",
   "mimetype": "text/x-python",
   "name": "python",
   "nbconvert_exporter": "python",
   "pygments_lexer": "ipython3",
   "version": "3.9.0"
  }
 },
 "nbformat": 4,
 "nbformat_minor": 4
}
