{
 "cells": [
  {
   "cell_type": "markdown",
   "metadata": {},
   "source": [
    "# 亜臨界ホップ分岐の標準形\n",
    "\n",
    "\\begin{equation}\n",
    "\\begin{aligned}\n",
    "    \\dot{x}_0 = \\lambda x_0 - \\omega x_1 + x_0 \\left[ c_1 (x_0^2 + x_1^2) - (x_0^2 + x_1^2)^2 \\right],\\\\\n",
    "    \\dot{x}_1 = \\omega x_0 + \\lambda x_1 + x_1 \\left[ c_1 (x_0^2 + x_1^2) - (x_0^2 + x_1^2)^2 \\right],\\\\\n",
    "\\end{aligned}\n",
    "\\end{equation}"
   ]
  },
  {
   "cell_type": "code",
   "execution_count": 1,
   "metadata": {},
   "outputs": [],
   "source": [
    "import numpy as np\n",
    "import pathfollowing as pf\n",
    "from scipy.integrate import ode, solve_ivp\n",
    "from scipy.linalg import solve\n",
    "import matplotlib.pyplot as plt\n",
    "import seaborn as sns\n",
    "%matplotlib inline\n",
    "sns.set('poster', 'whitegrid', 'dark', rc={\"lines.linewidth\": 2, 'grid.linestyle': '-'})"
   ]
  },
  {
   "cell_type": "markdown",
   "metadata": {},
   "source": [
    "ベクトル場とその微分"
   ]
  },
  {
   "cell_type": "code",
   "execution_count": 2,
   "metadata": {},
   "outputs": [],
   "source": [
    "c_lyap = 0.25\n",
    "def f(x, a):\n",
    "    A = np.array([[a[0], -1.0],[1.0, a[0]]])\n",
    "    r = x@x\n",
    "    return A @ x + r*(c_lyap - r)*x\n",
    "\n",
    "def fx(x, a):\n",
    "    r = x @ x\n",
    "    a00 = a[0] + r*(c_lyap - r) + 2*(c_lyap - 2*r)*x[0]**2\n",
    "    a01 = -1.0 + 2*x[0]*x[1]*(c_lyap - 2*r)\n",
    "    a10 = 1.0 + 2*x[0]*x[1]*(c_lyap - 2*r)\n",
    "    a11 = a[0] + r*(c_lyap-r)+2*(c_lyap-2*r)*x[1]**2\n",
    "    return np.array([[a00, a01],[a10, a11]])\n",
    "\n",
    "def fa(x, a):\n",
    "    return np.array([x[0], x[1]])"
   ]
  },
  {
   "cell_type": "markdown",
   "metadata": {},
   "source": [
    "一段射撃法の定式化"
   ]
  },
  {
   "cell_type": "code",
   "execution_count": 3,
   "metadata": {},
   "outputs": [],
   "source": [
    "def func(x, a):\n",
    "    T = x[-1]\n",
    "    def f2(t, y):\n",
    "        return T * f(y, a)\n",
    "    r = ode(f2).set_integrator('dop853')\n",
    "    y0 = np.copy(x[:-1])\n",
    "    h = 1.0\n",
    "    r.set_initial_value(y0, 0.0)\n",
    "    y1 = r.integrate(r.t+h)\n",
    "    x1 = np.zeros(len(x))\n",
    "    x1[:-1] = y1 - y0\n",
    "    x1[-1] = y0[0]\n",
    "    return x1\n",
    "\n",
    "def dfdx(x, a):\n",
    "    def df2(t, y, n):\n",
    "        z = np.zeros((n+1)*(n+2))\n",
    "        z[:n] = y[n] * f(y[:n], a)\n",
    "        z[n] = 0.0\n",
    "        J = np.zeros((n+1, n+1))\n",
    "        J[:n, :n] = y[n] * fx(y[:n], a)\n",
    "        J[:n, n] = f(y[:n], a)\n",
    "        for m in range(n+1):\n",
    "            z[(n+1)*(m+1):(n+1)*(m+2)] = J @ y[(n+1)*(m+1):(n+1)*(m+2)]\n",
    "        return z\n",
    "    r = ode(df2).set_integrator('dop853')\n",
    "    n = len(x)-1\n",
    "    y0 = np.zeros((n+1)*(n+2))\n",
    "    I = np.identity(n+1)\n",
    "    y0[:n+1] = np.copy(x)\n",
    "    for m in range(n+1):\n",
    "        y0[(n+1)*(m+1):(n+1)*(m+2)] = I[:,m]\n",
    "    h = 1.0\n",
    "    r.set_initial_value(y0, 0.0).set_f_params(n)\n",
    "    y1 = r.integrate(r.t+h)\n",
    "    A = -np.identity(n+1)\n",
    "    for m in range(n+1):\n",
    "        A[:-1,m] += y1[(n+1)*(m+1):(n+1)*(m+2)-1]\n",
    "    A[-1,:] = 0.0\n",
    "    A[-1,0] = 1.0 \n",
    "    return A\n",
    "\n",
    "def dfda(x, a):\n",
    "    T = x[-1]\n",
    "    def df2(t, y, n):\n",
    "        z = np.zeros(2*(n+1))\n",
    "        z[:n] = T * f(y[:n], np.array([y[n]]))\n",
    "        z[n] = 0.0\n",
    "        J = np.zeros((n+1, n+1))\n",
    "        J[:n, :n] = fx(y[:n], np.array([y[n]]))\n",
    "        J[:n, n] = fa(y[:n], np.array([y[n]]))\n",
    "        z[n+1:] = T * J @ y[n+1:]\n",
    "        return z\n",
    "    r = ode(df2).set_integrator('dop853')\n",
    "    n = len(x)-1\n",
    "    y0 = np.zeros(2*(n+1))\n",
    "    y0[:n] = np.copy(x[:-1])\n",
    "    y0[n] = a[0]\n",
    "    y0[-1] = 1.0\n",
    "    h = 1.0\n",
    "    r.set_initial_value(y0, 0.0).set_f_params(n)\n",
    "    y1 = r.integrate(r.t+h)\n",
    "    y1[-1] = 0.0\n",
    "    return y1[n+1:]"
   ]
  },
  {
   "cell_type": "markdown",
   "metadata": {},
   "source": [
    "一段射撃法のニュートン法"
   ]
  },
  {
   "cell_type": "code",
   "execution_count": 4,
   "metadata": {},
   "outputs": [
    {
     "name": "stdout",
     "output_type": "stream",
     "text": [
      "[0.         0.50000006 6.28318561] 1.534154170863662e-07\n",
      "[0.         0.50000006 6.28318561] 4.9608493090846714e-14\n",
      "[0.         0.50000006 6.28318561] 1.047382306668854e-15\n",
      "[0.         0.50000006 6.28318561] 2.159233940399377e-15\n",
      "[0.         0.50000006 6.28318561] 1.790180836524724e-15\n",
      "[0.         0.50000006 6.28318561] 3.6691989157368576e-15\n",
      "[0.         0.50000006 6.28318561] 2.5823128856601336e-15\n",
      "[0.         0.50000006 6.28318561] 4.742874840267547e-16\n",
      "[0.         0.50000006 6.28318561] 5.900916318210353e-16\n",
      "[0.         0.50000006 6.28318561] 3.0967063759893227e-15\n"
     ]
    }
   ],
   "source": [
    "x = np.array([0.0, 0.5, 2*np.pi])\n",
    "a = np.array([0.00])\n",
    "y = np.copy(x)\n",
    "for m in range(10):\n",
    "    b = func(y, a)\n",
    "    A = dfdx(y, a)\n",
    "    y -= solve(A, b)\n",
    "    print(y, np.linalg.norm(b))"
   ]
  },
  {
   "cell_type": "markdown",
   "metadata": {},
   "source": [
    "一段射撃法の追跡"
   ]
  },
  {
   "cell_type": "code",
   "execution_count": 5,
   "metadata": {},
   "outputs": [
    {
     "name": "stdout",
     "output_type": "stream",
     "text": [
      "# TY a x\n",
      "R 0.015023155570483651 0.0 -0.4014886326913046 -1.1210151741032572\n",
      "R 0.035917260293237226 0.0 -0.5137134389482804 -1.0830209867548288\n",
      "R 0.06238882678998029 0.0 -0.598635550276071 -1.0336654249654065\n",
      "R 0.09366115556610179 0.0 -0.6596456895451372 -0.9906320993827148\n",
      "R 0.12878337264553655 0.0 -0.7049271175618399 -0.9606197790481326\n",
      "R 0.16687167400969033 0.0 -0.7411210689365288 -0.9433512479878107\n",
      "R 0.20720964186011206 0.0 -0.7720442328849861 -0.9359801983313732\n",
      "R 0.249254084532369 0.0 -0.7995859087257013 -0.9355073217026986\n",
      "R 0.2926045087542456 0.0 -0.8246703700354263 -0.939585814511053\n",
      "R 0.3369675354791696 0.0 -0.8477989761336331 -0.9465799839662211\n",
      "R 0.3821271995562121 0.0 -0.8692906175761658 -0.9554041805435147\n",
      "R 0.4279228184124911 0.0 -0.8893765913715667 -0.9653493846126342\n",
      "R 0.47423331226694254 0.0 -0.9082387879660252 -0.9759536058460752\n",
      "R 0.5209660539735923 0.0 -0.9260254818232135 -0.9869139548929227\n",
      "R 0.5680492881279677 0.0 -0.9428602121660424 -0.9980308609630433\n",
      "R 0.6154266565926063 0.0 -0.958846830250254 -1.0091720497059906\n",
      "R 0.6630533271597377 0.0 -0.9740734149750584 -1.0202498422828012\n",
      "R 0.7108932242619 0.0 -0.9886152742495733 -1.0312065207193601\n",
      "R 0.7589170001148506 0.0 -1.002537020127154 -1.0420044666419417\n",
      "R 0.8071005408438864 0.0 -1.0158947050854057 -1.052620089102601\n"
     ]
    }
   ],
   "source": [
    "x=np.array([0.0, 0.5, 2*np.pi])\n",
    "a=np.array([0.0])\n",
    "bd,bp,lp=pf.pathfollow(x, a, func, dfdx, dfda,nmax=20, h=0.05, epsr=1.0e-10, epsb=1.0e-10, quiet=False)"
   ]
  },
  {
   "cell_type": "markdown",
   "metadata": {},
   "source": [
    "一段射撃法では不安定なリミットサイクルを上手く追跡できない"
   ]
  },
  {
   "cell_type": "code",
   "execution_count": null,
   "metadata": {},
   "outputs": [],
   "source": [
    "bd2,bp2,lp2=pf.pathfollow(x, a, func, dfdx, dfda,nmax=160, h=-0.01, epsr=1.0e-10, epsb=1.0e-10, quiet=True)"
   ]
  },
  {
   "cell_type": "markdown",
   "metadata": {},
   "source": [
    "2段射撃法の定式化"
   ]
  },
  {
   "cell_type": "code",
   "execution_count": 6,
   "metadata": {},
   "outputs": [],
   "source": [
    "Npts = 2\n",
    "def func(x, a):\n",
    "    T = x[-1]\n",
    "    def f2(t, y):\n",
    "        return T * f(y, a)\n",
    "    r = ode(f2).set_integrator('dop853', atol=1.0e-14, rtol=1.0e-14)\n",
    "    n = (len(x) - 1) // Npts\n",
    "    h = 1.0 / Npts\n",
    "    x1 = np.zeros(len(x))\n",
    "    y0 = np.copy(x[:n])\n",
    "    r.set_initial_value(y0, 0.0)\n",
    "    y1 = r.integrate(r.t+h)\n",
    "    x1[:n] = y1 - x[n:2*n]\n",
    "\n",
    "    y0 = np.copy(x[n:2*n])\n",
    "    r.set_initial_value(y0, 0.0)\n",
    "    y1 = r.integrate(r.t+h)\n",
    "    x1[n:2*n] = y1 - x[:n]\n",
    "\n",
    "    x1[-1] = x[0]\n",
    "    return x1\n",
    "\n",
    "def dfdx(x, a):\n",
    "    def df2(t, y, n):\n",
    "        z = np.zeros((n+1)*(n+2))\n",
    "        z[:n] = y[n] * f(y[:n], a)\n",
    "        z[n] = 0.0\n",
    "        J = np.zeros((n+1, n+1))\n",
    "        J[:n, :n] = y[n] * fx(y[:n], a)\n",
    "        J[:n, n] = f(y[:n], a)\n",
    "        for m in range(n+1):\n",
    "            z[(n+1)*(m+1):(n+1)*(m+2)] = J @ y[(n+1)*(m+1):(n+1)*(m+2)]\n",
    "        return z\n",
    "    r = ode(df2).set_integrator('dop853', atol=1.0e-14, rtol=1.0e-14)\n",
    "    n = (len(x)-1) // Npts\n",
    "    h = 1.0 / Npts\n",
    "    A = np.zeros((len(x), len(x)))\n",
    "\n",
    "    y0 = np.zeros((n+1)*(n+2))\n",
    "    I = np.identity(n+1)\n",
    "    y0[:n] = x[:n]\n",
    "    y0[n] = x[-1]\n",
    "    for m in range(n+1):\n",
    "        y0[(n+1)*(m+1):(n+1)*(m+2)] = I[:,m]\n",
    "    r.set_initial_value(y0, 0.0).set_f_params(n)\n",
    "    y1 = r.integrate(r.t+h)\n",
    "    for m in range(n):\n",
    "        A[:n,m] = y1[(n+1)*(m+1):(n+1)*(m+1)+n]\n",
    "    A[:n, n:2*n] = -np.identity(n)\n",
    "    A[:n, -1] = y1[-(n+1):-1]\n",
    "\n",
    "    y0 = np.zeros((n+1)*(n+2))\n",
    "    y0[:n] = x[n:2*n]\n",
    "    y0[n] = x[-1]\n",
    "    for m in range(n+1):\n",
    "        y0[(n+1)*(m+1):(n+1)*(m+2)] = I[:,m]\n",
    "    r.set_initial_value(y0, 0.0).set_f_params(n)\n",
    "    y1 = r.integrate(r.t+h)\n",
    "    for m in range(n):\n",
    "        A[n:2*n,n+m] = y1[(n+1)*(m+1):(n+1)*(m+1)+n]\n",
    "    A[n:2*n, :n] = -np.identity(n)\n",
    "    A[n:2*n, -1] = y1[-(n+1):-1]\n",
    "    A[-1,0] = 1.0\n",
    "    return A\n",
    "\n",
    "def dfda(x, a):\n",
    "    T = x[-1]\n",
    "    def df2(t, y, n):\n",
    "        z = np.zeros(2*(n+1))\n",
    "        z[:n] = T * f(y[:n], np.array([y[n]]))\n",
    "        z[n] = 0.0\n",
    "        J = np.zeros((n+1, n+1))\n",
    "        J[:n, :n] = fx(y[:n], np.array([y[n]]))\n",
    "        J[:n, n] = fa(y[:n], np.array([y[n]]))\n",
    "        z[n+1:] = T * J @ y[n+1:]\n",
    "        return z\n",
    "    n = (len(x) - 1) // Npts\n",
    "    h = 1.0 / Npts\n",
    "    r = ode(df2).set_integrator('dop853', atol=1e-14, rtol=1e-14)\n",
    "    b = np.zeros(len(x))\n",
    "    y0 = np.zeros(2*(n+1))\n",
    "    y0[:n] = np.copy(x[:n])\n",
    "    y0[n] = a[0]\n",
    "    y0[-1] = 1.0\n",
    "    r.set_initial_value(y0, 0.0).set_f_params(n)\n",
    "    y1 = r.integrate(r.t+h)\n",
    "    b[:n] = y1[n+1:2*n+1]\n",
    "\n",
    "    y0[:n] = np.copy(x[n:2*n])\n",
    "    y0[n] = a[0]\n",
    "    y0[-1] = 1.0\n",
    "    r.set_initial_value(y0, 0.0).set_f_params(n)\n",
    "    y1 = r.integrate(r.t+h)\n",
    "    b[n:2*n] = y1[n+1:2*n+1]\n",
    "\n",
    "    return b"
   ]
  },
  {
   "cell_type": "markdown",
   "metadata": {},
   "source": [
    "２段射撃法のニュートン法"
   ]
  },
  {
   "cell_type": "code",
   "execution_count": 7,
   "metadata": {},
   "outputs": [
    {
     "name": "stdout",
     "output_type": "stream",
     "text": [
      "[1.03152808e-30 5.00000000e-01] 6.283185307179601 5.9170423507905885e-15\n",
      "[-3.85185989e-33  5.00000000e-01] 6.283185307179601 3.4577177419348924e-16\n",
      "[-3.85185989e-33  5.00000000e-01] 6.283185307179601 1.422896290682169e-16\n",
      "[-3.85185989e-33  5.00000000e-01] 6.283185307179601 1.42289629068217e-16\n",
      "[-3.85185989e-33  5.00000000e-01] 6.283185307179601 1.4228962906821706e-16\n",
      "[-3.85185989e-33  5.00000000e-01] 6.283185307179601 1.422896290682171e-16\n",
      "[-3.85185989e-33  5.00000000e-01] 6.283185307179601 1.422896290682171e-16\n",
      "[-3.85185989e-33  5.00000000e-01] 6.283185307179601 1.422896290682171e-16\n",
      "[-3.85185989e-33  5.00000000e-01] 6.283185307179601 1.422896290682171e-16\n",
      "[-3.85185989e-33  5.00000000e-01] 6.283185307179601 1.422896290682171e-16\n"
     ]
    }
   ],
   "source": [
    "x = np.array([0.0, 0.5, 0.0, -0.5, 2*np.pi])\n",
    "a = np.array([0.0])\n",
    "y = np.copy(x)\n",
    "for m in range(10):\n",
    "    b = func(y, a)\n",
    "    A = dfdx(y, a)\n",
    "    y -= solve(A, b)\n",
    "    print(y[:2], y[-1], np.linalg.norm(b))"
   ]
  },
  {
   "cell_type": "markdown",
   "metadata": {},
   "source": [
    "２段射撃法の追跡"
   ]
  },
  {
   "cell_type": "code",
   "execution_count": 8,
   "metadata": {},
   "outputs": [
    {
     "name": "stdout",
     "output_type": "stream",
     "text": [
      "# TY a x\n",
      "R 0.010238862505482822 -5.403755707824863e-32 -0.3662316500243911 -1.5498606621213413\n",
      "R 0.023739873764932994 -4.733750501935393e-33 -0.4553158497308608 -1.4976143607705639\n",
      "R 0.04071774492605943 -4.733750501935393e-33 -0.5326683322583992 -1.4215795060654648\n",
      "R 0.06124544544111728 -4.733750501935393e-33 -0.595783057204346 -1.33786000086712\n",
      "R 0.08524514750751452 -4.733750501935393e-33 -0.645843059581797 -1.258955671257655\n",
      "R 0.11250697657464735 -4.733750501935393e-33 -0.6859340014747413 -1.1920208867688635\n",
      "R 0.14272871566530332 -4.733750501935393e-33 -0.719272411828372 -1.1394278395780593\n",
      "R 0.17556223958176542 -4.733750501935393e-33 -0.7482786043200086 -1.1004645408132008\n",
      "R 0.2106536541412975 -4.733750501935393e-33 -0.7744508738274067 -1.0730099622800326\n",
      "R 0.24767068404422057 -4.733750501935393e-33 -0.7986132498030031 -1.0546474955082767\n",
      "R 0.28631720026645063 -4.733750501935393e-33 -0.8212010575834192 -1.043208091386597\n",
      "R 0.3263380778023389 -4.733750501935393e-33 -0.8424572605441736 -1.0369422447846928\n",
      "R 0.367518134342238 -4.733750501935393e-33 -0.8625378665466908 -1.034511606951831\n",
      "R 0.40967811560807316 -4.733750501935393e-33 -0.8815600443684318 -1.0349175874854633\n",
      "R 0.45266963470701993 -4.733750501935393e-33 -0.8996216456621391 -1.0374220910433045\n",
      "R 0.49637011577806034 -4.733750501935393e-33 -0.9168085306160499 -1.0414800539483653\n",
      "R 0.5406782309452516 -4.733750501935393e-33 -0.9331973200173574 -1.0466875369358697\n",
      "R 0.5855099985558622 -4.733750501935393e-33 -0.9488566373477703 -1.0527435057737162\n",
      "R 0.6307955473406922 -4.733750501935393e-33 -0.963847921027768 -1.0594221907336139\n",
      "R 0.6764764793878222 -4.733750501935393e-33 -0.9782261306327295 -1.0665531933909338\n"
     ]
    }
   ],
   "source": [
    "x=np.array([0.0, 0.5, 0.0, -0.5, 2*np.pi])\n",
    "a=np.array([0.0])\n",
    "bd,bp,lp=pf.pathfollow(x, a, func, dfdx, dfda,nmax=20, h=0.05, epsr=1.0e-10, epsb=1.0e-10, quiet=False)"
   ]
  },
  {
   "cell_type": "code",
   "execution_count": 9,
   "metadata": {},
   "outputs": [
    {
     "name": "stdout",
     "output_type": "stream",
     "text": [
      "# TY a x\n",
      "R -0.0016825386140757964 7.02246187503377e-32 -0.253373901911225 -1.5594923177185995\n",
      "R -0.003250526669919375 -9.500955706734343e-33 -0.23495225480671061 -1.554225015837006\n",
      "R -0.004707045164395174 -4.1717537362564895e-32 -0.21684026359514308 -1.5468666346052207\n",
      "R -0.006055255185025018 -4.745611209927768e-33 -0.19910931589742567 -1.5374020664495056\n",
      "R -0.007298384840448311 6.937419267494025e-33 -0.18182701631679232 -1.5258313322500723\n",
      "R -0.008439716743882195 2.1403554471442047e-32 -0.16505638049320132 -1.512169384074778\n",
      "R -0.009482576120891142 -3.182652306984614e-32 -0.14885513870366288 -1.4964457011495438\n",
      "R -0.010430319595285854 -1.9254836635551235e-32 -0.1332751587127739 -1.4787036956990314\n",
      "R -0.011286324690703826 -2.3660363989649884e-33 -0.11836199364344027 -1.4589999486902951\n",
      "R -0.012053980070587788 -8.15659325687763e-32 -0.10415455686249707 -1.4374032980901197\n",
      "R -0.012736676526062455 1.2532475427875193e-31 -0.09068492238716055 -1.413993803993903\n",
      "R -0.01333779870965182 -1.6902129538851887e-32 -0.07797824621488383 -1.3888616159242642\n",
      "R -0.013860717602919558 2.6857825741020185e-32 -0.06605280133070679 -1.362105767782887\n",
      "R -0.014308783697889401 -1.394509914872856e-32 -0.054920116993636824 -1.3338329254439085\n",
      "R -0.014685320865443788 -2.9327019841978325e-34 -0.04458521126164959 -1.3041561108907922\n",
      "R -0.014993620878689641 1.4120792175793725e-32 -0.03504690457576111 -1.2731934252215826\n",
      "R -0.015236938555380698 -2.560586211890893e-32 -0.026298201560356352 -1.241066790883206\n",
      "R -0.015418487480769441 -2.0065881480611696e-32 -0.018326727968370305 -1.2079007312479293\n",
      "R -0.015541436270575885 2.2033632912675172e-33 -0.011115209854372206 -1.1738212032129862\n",
      "R -0.015608905332941564 1.7828107967090242e-32 -0.004641982538141977 -1.1389544959791036\n",
      "L -0.0156250000111336 4.593689218450005e-32\n",
      "R -0.015623964088195335 -4.399922198324964e-32 0.0011184823347377155 -1.103426206626107\n",
      "R -0.015589628605790393 3.202952976089426e-32 0.006195042381084744 -1.0673603006244607\n",
      "R -0.01550885961884735 1.486508627666432e-32 0.01061935236929509 -1.030878263057281\n",
      "R -0.015384560878159328 -1.2433754754900076e-33 0.014425342875801725 -0.9940983441247259\n",
      "R -0.015219577809270248 -8.002791040535006e-33 0.01764871694459497 -0.9571349004944583\n",
      "R -0.015016696438177901 -4.801393121692155e-33 0.02032647075184356 -0.92009783227188\n",
      "R -0.014778642553314594 1.4581306494120055e-32 0.022496443075133994 -0.8830921138044552\n",
      "R -0.01450808107363924 1.2399363924074191e-33 0.024196897223117287 -0.8462174152105282\n",
      "R -0.014207615594889327 3.3847388567702675e-32 0.025466138017625466 -0.8095678104316425\n",
      "R -0.013879788088257948 -9.544221565995105e-33 0.026342165451563405 -0.7732315667399483\n",
      "R -0.013527078727935607 3.4788174538783335e-32 0.02686236578172633 -0.737291009975498\n",
      "R -0.013151905826081452 6.0372022905579326e-33 0.027063240061055163 -0.7018224593255217\n",
      "R -0.01275662585582855 -1.3691208466656678e-32 0.02698016947061885 -0.6668962251702814\n",
      "R -0.012343533544876328 4.380385838663099e-33 0.02664721627547096 -0.6325766633876211\n",
      "R -0.011914862024080257 -9.663232139807833e-32 0.026096958795552194 -0.5989222795100413\n",
      "R -0.011472782947019975 1.975291754548149e-33 0.02536035857838516 -0.5659858766452528\n",
      "R -0.011019407010201982 1.975291754548149e-33 0.0244666567454681 -0.5338147383355227\n",
      "R -0.010556783702487468 9.863896643218951e-33 0.023443299348405482 -0.5024508470879117\n",
      "R -0.010086901902417945 9.863896643218951e-33 0.022315886177793884 -0.47193112340875404\n",
      "R -0.009611690030057338 1.9752891526190395e-33 0.021108142978135572 -0.4422876876554451\n",
      "R -0.009133016288377569 1.9752891526190395e-33 0.019841913542047705 -0.4135481366208599\n",
      "R -0.008652688893396631 -5.207157985932626e-34 0.01853716943421786 -0.3857358309986061\n",
      "R -0.008172456288500477 -2.092009165413256e-33 0.01721203500158411 -0.35887018973805873\n",
      "R -0.007694007339320203 4.943245187978106e-32 0.015882825442390388 -0.33296698772980665\n",
      "R -0.007218971506382985 3.98410225662768e-32 0.014564095843033737 -0.30803865368339045\n",
      "R -0.006748918993544735 -9.281342647265258e-33 0.013268699241951051 -0.28409456546403644\n",
      "R -0.006285360870901335 1.0054099562571345e-32 0.012007851939089972 -0.2611413405391832\n",
      "R -0.005829749171520191 -5.033408734445277e-32 0.010791204433264303 -0.23918311954546376\n",
      "R -0.005383476961893109 -2.967228418416021e-33 0.009626916534295201 -0.2182218413202301\n",
      "R -0.004947878386515336 3.97635009002737e-33 0.008521735359177319 -0.19825750804726577\n",
      "R -0.004524228687443472 -3.8615639129132616e-33 0.007481075079187902 -0.1792884394432921\n",
      "R -0.00411374420006816 1.7393139021441016e-32 0.006509097436007451 -0.16131151516028142\n",
      "R -0.0037175823266748795 2.6781642490740776e-34 0.0056087921881079845 -0.14432240479882824\n",
      "R -0.0033368414896467248 4.361491661919753e-35 0.00478205678293946 -0.1283157851208176\n",
      "R -0.0029725610664046343 -2.0631705852600443e-32 0.004029774675169233 -0.1132855442165176\n",
      "R -0.0026257213083543747 -7.227249565150428e-33 0.0033518918261041947 -0.09922497252345197\n",
      "R -0.002297243246276104 -3.057875973042373e-33 0.0027474910243355296 -0.08612694071346937\n",
      "R -0.0019879885846666606 2.0300780705111897e-33 0.002214863762799272 -0.07398406456210362\n",
      "R -0.0016987595876376352 1.2618591781704367e-32 0.0017515794930291011 -0.06278885699217213\n",
      "R -0.0014302989589630704 1.3220683442614323e-32 0.0013545521539083819 -0.05253386754346646\n",
      "R -0.0011832897188841205 -1.3609665858538619e-33 0.0010201039401040912 -0.0432118095639032\n",
      "R -0.0009583550802136594 -1.2838213124605414e-32 0.0007440263351997581 -0.03481567544637829\n",
      "R -0.0007560583262075292 2.9926311315617922e-33 0.0005216384868919923 -0.027338840251318962\n",
      "R -0.0005769026925587485 1.2084793488618262e-32 0.00034784304707438115 -0.02077515405908025\n",
      "R -0.00042133125572308094 6.599873378810254e-33 0.00021717963879318026 -0.015119023390295569\n",
      "R -0.00028972682961939285 4.7552921664299147e-32 0.00012387614548361973 -0.010365482017378391\n",
      "R -0.0001824118725240042 2.4217752809700947e-32 6.189804611899412e-05 -0.006510251467824137\n",
      "R -9.964840567176564e-05 2.8478822538315235e-32 2.4996043417941123e-05 -0.0035497914909131197\n",
      "R -4.163794423291495e-05 -6.99758518339629e-32 6.752251495610047e-06 -0.001481340724932748\n",
      "R -8.521433803888265e-06 -1.335534449656945e-31 6.252247051094989e-07 -0.00030294776310889576\n"
     ]
    }
   ],
   "source": [
    "x=np.array([0.0, 0.5, 0.0, -0.5, 2*np.pi])\n",
    "a=np.array([0.0])\n",
    "bd2,bp2,lp2=pf.pathfollow(x, a, func, dfdx, dfda,nmax=70, h=-0.01, epsr=1.0e-10, epsb=1.0e-10, quiet=False)"
   ]
  },
  {
   "cell_type": "code",
   "execution_count": 10,
   "metadata": {},
   "outputs": [],
   "source": [
    "bd_r = np.array([bd[m]['a'][0] for m in range(len(bd))])\n",
    "bd_x = np.array([bd[m]['x'][1] for m in range(len(bd))])\n",
    "bd2_r = np.array([bd2[m]['a'][0] for m in range(len(bd2))])\n",
    "bd2_x = np.array([bd2[m]['x'][1] for m in range(len(bd2))])"
   ]
  },
  {
   "cell_type": "code",
   "execution_count": 11,
   "metadata": {},
   "outputs": [
    {
     "data": {
      "text/plain": [
       "[<matplotlib.lines.Line2D at 0x2459090bb50>]"
      ]
     },
     "execution_count": 11,
     "metadata": {},
     "output_type": "execute_result"
    },
    {
     "data": {
      "image/png": "[encoded data removed]",
      "text/plain": [
       "<Figure size 576x360 with 1 Axes>"
      ]
     },
     "metadata": {},
     "output_type": "display_data"
    }
   ],
   "source": [
    "fig = plt.figure(figsize=(8, 5))\n",
    "ax = fig.add_subplot(111)\n",
    "ax.set_xlim(-0.1,0.1)\n",
    "ax.set_ylim(0, 0.8)\n",
    "ax.set_xlabel(r\"$\\lambda$\")\n",
    "ax.set_ylabel(\"$x_1$\")\n",
    "ax.plot(bd_r, bd_x, '-k')\n",
    "ax.plot(bd2_r, bd2_x, '-k')\n",
    "# plt.savefig(\"bd_hopf_sub.pdf\", bbox_inches='tight')"
   ]
  },
  {
   "cell_type": "markdown",
   "metadata": {},
   "source": [
    "Ｎ段射撃法の定式化"
   ]
  },
  {
   "cell_type": "code",
   "execution_count": 12,
   "metadata": {},
   "outputs": [],
   "source": [
    "Npts = 4\n",
    "def func(x, a):\n",
    "    T = x[-1]\n",
    "    def f2(t, y):\n",
    "        return T * f(y, a)\n",
    "    r = ode(f2).set_integrator('dop853', atol=1.0e-14, rtol=1.0e-14)\n",
    "    n = (len(x) - 1) // Npts\n",
    "    h = 1.0 / Npts\n",
    "    x1 = np.zeros(len(x))\n",
    "\n",
    "    for k in range(Npts-1):\n",
    "        y0 = np.copy(x[k*n:(k+1)*n])\n",
    "        r.set_initial_value(y0, 0.0)\n",
    "        y1 = r.integrate(r.t+h)\n",
    "        x1[k*n:(k+1)*n] = y1 - x[(k+1)*n:(k+2)*n]\n",
    "\n",
    "    y0 = np.copy(x[-(n+1):-1])\n",
    "    r.set_initial_value(y0, 0.0)\n",
    "    y1 = r.integrate(r.t+h)\n",
    "    x1[-(n+1):-1] = y1 - x[:n]\n",
    "\n",
    "    x1[-1] = x[0]\n",
    "    return x1\n",
    "\n",
    "def dfdx(x, a):\n",
    "    def df2(t, y, n):\n",
    "        z = np.zeros((n+1)*(n+2))\n",
    "        z[:n] = y[n] * f(y[:n], a)\n",
    "        z[n] = 0.0\n",
    "        J = np.zeros((n+1, n+1))\n",
    "        J[:n, :n] = y[n] * fx(y[:n], a)\n",
    "        J[:n, n] = f(y[:n], a)\n",
    "        for m in range(n+1):\n",
    "            z[(n+1)*(m+1):(n+1)*(m+2)] = J @ y[(n+1)*(m+1):(n+1)*(m+2)]\n",
    "        return z\n",
    "    r = ode(df2).set_integrator('dop853', atol=1.0e-14, rtol=1.0e-14)\n",
    "    n = (len(x)-1) // Npts\n",
    "    h = 1.0 / Npts\n",
    "    A = np.zeros((len(x), len(x)))\n",
    "    I = np.identity(n+1)\n",
    "\n",
    "    for k in range(Npts-1):\n",
    "        y0 = np.zeros((n+1)*(n+2))\n",
    "        y0[:n] = x[k*n:(k+1)*n]\n",
    "        y0[n] = x[-1]\n",
    "        for m in range(n+1):\n",
    "            y0[(n+1)*(m+1):(n+1)*(m+2)] = I[:,m]\n",
    "        r.set_initial_value(y0, 0.0).set_f_params(n)\n",
    "        y1 = r.integrate(r.t+h)\n",
    "        for m in range(n):\n",
    "            A[k*n:(k+1)*n,k*n+m] = y1[(n+1)*(m+1):(n+1)*(m+1)+n]\n",
    "        A[k*n:(k+1)*n, (k+1)*n:(k+2)*n] = -np.identity(n)\n",
    "        A[k*n:(k+1)*n, -1] = y1[-(n+1):-1]\n",
    "\n",
    "    y0 = np.zeros((n+1)*(n+2))\n",
    "    y0[:n] = x[-(n+1):-1]\n",
    "    y0[n] = x[-1]\n",
    "    for m in range(n+1):\n",
    "        y0[(n+1)*(m+1):(n+1)*(m+2)] = I[:,m]\n",
    "    r.set_initial_value(y0, 0.0).set_f_params(n)\n",
    "    y1 = r.integrate(r.t+h)\n",
    "    for m in range(n):\n",
    "        A[-(n+1):-1,-(n+1)+m] = y1[(n+1)*(m+1):(n+1)*(m+1)+n]\n",
    "    A[-(n+1):-1, :n] = -np.identity(n)\n",
    "    A[-(n+1):-1, -1] = y1[-(n+1):-1]\n",
    "    A[-1,0] = 1.0\n",
    "    return A\n",
    "\n",
    "def dfda(x, a):\n",
    "    T = x[-1]\n",
    "    def df2(t, y, n):\n",
    "        z = np.zeros(2*(n+1))\n",
    "        z[:n] = T * f(y[:n], np.array([y[n]]))\n",
    "        z[n] = 0.0\n",
    "        J = np.zeros((n+1, n+1))\n",
    "        J[:n, :n] = fx(y[:n], np.array([y[n]]))\n",
    "        J[:n, n] = fa(y[:n], np.array([y[n]]))\n",
    "        z[n+1:] = T * J @ y[n+1:]\n",
    "        return z\n",
    "    n = (len(x) - 1) // Npts\n",
    "    h = 1.0 / Npts\n",
    "    r = ode(df2).set_integrator('dop853', atol=1e-14, rtol=1e-14)\n",
    "    b = np.zeros(len(x))\n",
    "\n",
    "    for k in range(Npts-1):\n",
    "        y0 = np.zeros(2*(n+1))\n",
    "        y0[:n] = np.copy(x[k*n:(k+1)*n])\n",
    "        y0[n] = a[0]\n",
    "        y0[-1] = 1.0\n",
    "        r.set_initial_value(y0, 0.0).set_f_params(n)\n",
    "        y1 = r.integrate(r.t+h)\n",
    "        b[k*n:(k+1)*n] = y1[n+1:2*n+1]\n",
    "\n",
    "    y0[:n] = np.copy(x[-(n+1):-1])\n",
    "    y0[n] = a[0]\n",
    "    y0[-1] = 1.0\n",
    "    r.set_initial_value(y0, 0.0).set_f_params(n)\n",
    "    y1 = r.integrate(r.t+h)\n",
    "    b[-(n+1):-1] = y1[n+1:2*n+1]\n",
    "\n",
    "    return b"
   ]
  },
  {
   "cell_type": "code",
   "execution_count": 13,
   "metadata": {},
   "outputs": [
    {
     "name": "stdout",
     "output_type": "stream",
     "text": [
      "[7.00143703e-31 5.00000000e-01] 6.283185307179599 3.660606886031751e-15\n",
      "[6.4594719e-34 5.0000000e-01] 6.283185307179599 5.5511151231256336e-17\n",
      "[6.4594719e-34 5.0000000e-01] 6.283185307179599 5.551115123125776e-17\n",
      "[6.4594719e-34 5.0000000e-01] 6.283185307179599 5.5511151231257796e-17\n",
      "[6.4594719e-34 5.0000000e-01] 6.283185307179599 5.5511151231257815e-17\n",
      "[6.4594719e-34 5.0000000e-01] 6.283185307179599 5.551115123125783e-17\n",
      "[6.4594719e-34 5.0000000e-01] 6.283185307179599 5.551115123125783e-17\n",
      "[6.4594719e-34 5.0000000e-01] 6.283185307179599 5.551115123125783e-17\n",
      "[6.4594719e-34 5.0000000e-01] 6.283185307179599 5.5511151231257815e-17\n",
      "[6.4594719e-34 5.0000000e-01] 6.283185307179599 5.5511151231257815e-17\n"
     ]
    }
   ],
   "source": [
    "x = np.array([0.0, 0.5, -0.5, 0.0, 0.0, -0.5, 0.5, 0.0, 2*np.pi])\n",
    "a = np.array([0.0])\n",
    "y = np.copy(x)\n",
    "for m in range(10):\n",
    "    b = func(y, a)\n",
    "    A = dfdx(y, a)\n",
    "    y -= solve(A, b)\n",
    "    print(y[:2], y[-1], np.linalg.norm(b))"
   ]
  },
  {
   "cell_type": "code",
   "execution_count": 15,
   "metadata": {},
   "outputs": [
    {
     "name": "stdout",
     "output_type": "stream",
     "text": [
      "# TY a x\n",
      "R -0.001210268696060905 7.198167504054491e-32 -0.2587215678218521 -2.1918394978718214\n",
      "R -0.0023612070190184293 -7.21711024583157e-32 -0.24552966875223967 -2.188928139255222\n",
      "R -0.00345408333781922 -8.814414118241897e-33 -0.23248150764202807 -2.184435318491585\n",
      "R -0.004490171124609288 -1.8836903516904824e-31 -0.21960270477940474 -2.1783524761134347\n",
      "R -0.005470747503757936 7.587450033747564e-33 -0.20691807158734546 -2.1706766196547833\n",
      "R -0.006397091866208182 1.218589692112546e-32 -0.19445146066600277 -2.161410283164076\n",
      "R -0.007270484549517834 5.966658182570574e-32 -0.18222562760231445 -2.1505614493633103\n",
      "R -0.008092205583572721 2.527208452493161e-33 -0.17026210563868416 -2.138143436274803\n",
      "R -0.008863533501607799 3.4767697796386317e-31 -0.1585810940735847 -2.12417475045875\n",
      "R -0.009585744215846688 -6.254627325329278e-32 -0.14720136104662054 -2.1086789092818727\n",
      "R -0.010260109956806077 6.568973293615825e-32 -0.13614016114321376 -2.091684234867552\n",
      "R -0.010887898275042022 -7.37911432883456e-33 -0.12541316804322206 -2.073223622561223\n",
      "R -0.011470371103924827 2.6897639083149237e-32 -0.11503442223685624 -2.0533342868804954\n",
      "R -0.012008783881813432 4.5094954688537154e-32 -0.10501629364293395 -2.032057488010041\n",
      "R -0.012504384731871241 4.4044516986361624e-32 -0.09536945879114277 -2.0094382419466923\n",
      "R -0.012958413697611647 -1.8013976989168722e-32 -0.08610289207343917 -1.985525017404777\n",
      "R -0.013372102032167852 -8.057160079642488e-33 -0.07722387043117984 -1.9603694225568327\n",
      "R -0.013746671539196217 3.591256326304304e-32 -0.06873799072507682 -1.934025884614749\n",
      "R -0.014083333963255493 -2.2369431992181358e-32 -0.060649198934828244 -1.9065513251547643\n",
      "R -0.014383290427469855 1.15808779063889e-31 -0.05295983025446071 -1.878004833959784\n",
      "R -0.014647730916249378 5.589821366067934e-32 -0.04567065908753618 -1.8484473439992686\n",
      "R -0.014877833800841966 4.67864545963793e-33 -0.038780957902853 -1.8179413099935147\n",
      "R -0.015074765405485647 -7.872565909864388e-33 -0.03228856388506306 -1.7865503928201891\n",
      "R -0.015239679611956656 4.771081554658003e-32 -0.02618995230471244 -1.7543391518201017\n",
      "R -0.015373717500330621 7.089405839613484e-32 -0.02048031553706693 -1.7213727468501026\n",
      "R -0.01547800702381367 -2.94317736596072e-32 -0.015153646677448116 -1.6877166517173021\n",
      "R -0.015553662715546762 1.49905132741321e-32 -0.010202826730966983 -1.6534363804136183\n",
      "R -0.015601785425338808 6.455549030347572e-32 -0.005619714395063983 -1.618597227355915\n",
      "R -0.015623462084343755 7.581441856016526e-32 -0.0013952375024328264 -1.5832640226273966\n",
      "L -0.015624999996993403 -2.63228903061851e-32\n",
      "R -0.015619765495758407 -1.9510485983096633e-32 0.002480514751760856 -1.5475009030127767\n",
      "R -0.015591754149684547 -1.197455159271e-32 0.006018199612507215 -1.5113710994247993\n",
      "R -0.015540472060374497 -1.4979111444372854e-32 0.009229129345413008 -1.4749367411349137\n",
      "R -0.015466948532945649 1.107177705805614e-32 0.012125181464125485 -1.4382586780564164\n",
      "R -0.015372198412488495 -4.8646439332687734e-33 0.014718710058294211 -1.401396315003434\n",
      "R -0.015257221408811679 1.0759128892130986e-32 0.01702246168260961 -1.3644074735020226\n",
      "R -0.015123002394409972 6.708355767788752e-33 0.01904949232825777 -1.3273482597343906\n",
      "R -0.01497051123049537 -6.25985072474833e-33 0.02081308886988497 -1.2902729544744174\n",
      "R -0.01480070270515486 -1.2593205181380003e-32 0.022326694106522722 -1.2532339179992278\n",
      "R -0.014614516483455256 -8.624459643725233e-33 0.023603835867839713 -1.2162815105693687\n",
      "R -0.014412877068305048 -4.3883776714409886e-33 0.02465806039186443 -1.1794640278742656\n",
      "R -0.014196693770944185 -6.505417479332634e-34 0.02550287012338774 -1.1428276507734112\n",
      "R -0.013966860690010966 -5.4069674959442654e-33 0.026151666029330105 -1.106416408609622\n",
      "R -0.013724256698189849 2.5626020839866466e-33 0.02661769447876687 -1.0702721553284724\n",
      "R -0.0134697454355274 1.8020379419666742e-34 0.02691399869103761 -1.0344345576065397\n",
      "R -0.013204175308541026 1.6375931021328905e-32 0.027053374715691886 -0.9989410941701473\n",
      "R -0.012928379494330415 1.5353178967911281e-33 0.02704833187260692 -0.9638270654741721\n",
      "R -0.012643175948949334 5.914909028621731e-34 0.026911057549703788 -0.9291256129072064\n",
      "R -0.012349367419347565 -7.421523867591449e-33 0.026653386228965858 -0.8948677466936453\n",
      "R -0.012047741458253014 1.8629519679389478e-32 0.026286772588768968 -0.8610823816741386\n",
      "R -0.011739070441416399 9.262296157643818e-32 0.025822268511741398 -0.827796380162724\n",
      "R -0.011424111586686124 -1.8188678061306044e-32 0.025270503812238027 -0.7950346011010523\n",
      "R -0.011103606974430504 2.744298127360088e-32 0.024641670485688556 -0.7628199547563483\n",
      "R -0.010778283568866 -5.214762502343715e-33 0.023945510273508244 -0.7311734622398115\n",
      "R -0.010448853239901116 8.115620501449142e-33 0.02319130533141326 -0.7001143191548607\n",
      "R -0.010116012785135707 -6.26792995076934e-33 0.022387871785872183 -0.669659962719967\n",
      "R -0.009780443951700272 -9.816435376251078e-33 0.02154355596253014 -0.6398261417474992\n",
      "R -0.009442813457655765 -6.272002525047159e-33 0.020666233071698133 -0.6106269888980855\n",
      "R -0.009103773012706201 -8.248277365433435e-33 0.019763308139014297 -0.5820750946686282\n",
      "R -0.008763959338011008 3.371553482219906e-33 0.018841718974002195 -0.5541815826110104\n",
      "R -0.008423994184912879 -3.03490866095637e-32 0.01790794097519896 -0.5269561853172688\n",
      "R -0.008084484352429866 -6.376702031941655e-33 0.01696799357758452 -0.5004073207452406\n",
      "R -0.007746021703378907 -3.70464754869927e-32 0.016027448156055026 -0.4745421684962132\n",
      "R -0.0074091831790322905 -5.677314539924261e-32 0.015091437207383552 -0.44936674569244794\n",
      "R -0.0070745308122285334 -1.1998506857394412e-32 0.014164664642421327 -0.42488598213770623\n",
      "R -0.006742611738876729 5.822282226640375e-32 0.013251417029970262 -0.4011037944776565\n",
      "R -0.006413958207823184 -2.162844721481795e-33 0.012355575643730528 -0.37802315910921935\n",
      "R -0.006089087589058139 2.1181091615919165e-32 0.011480629173833308 -0.3556461836185353\n",
      "R -0.005768502380266706 9.778225375746458e-33 0.010629686974595308 -0.33397417655598655\n",
      "R -0.005452690211734032 3.1168339841328094e-32 0.009805492730238896 -0.31300771538381444\n",
      "R -0.005142123849644269 -2.2825041836206972e-32 0.009010438430213584 -0.29274671245701456\n"
     ]
    }
   ],
   "source": [
    "x = np.array([0.0, 0.5, -0.5, 0.0, 0.0, -0.5, 0.5, 0.0, 2*np.pi])\n",
    "a=np.array([0.0])\n",
    "bd2,bp2,lp2=pf.pathfollow(x, a, func, dfdx, dfda,nmax=70, h=-0.01, epsr=1.0e-10, epsb=1.0e-10, quiet=False)"
   ]
  }
 ],
 "metadata": {
  "file_extension": ".py",
  "kernelspec": {
   "display_name": "Python 3",
   "language": "python",
   "name": "python3"
  },
  "language_info": {
   "codemirror_mode": {
    "name": "ipython",
    "version": 3
   },
   "file_extension": ".py",
   "mimetype": "text/x-python",
   "name": "python",
   "nbconvert_exporter": "python",
   "pygments_lexer": "ipython3",
   "version": "3.9.0"
  },
  "mimetype": "text/x-python",
  "name": "python",
  "npconvert_exporter": "python",
  "pygments_lexer": "ipython3",
  "version": 3
 },
 "nbformat": 4,
 "nbformat_minor": 2
}
