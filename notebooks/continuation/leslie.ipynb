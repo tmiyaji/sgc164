{
 "cells": [
  {
   "cell_type": "markdown",
   "metadata": {},
   "source": [
    "# 非線型Leslieモデル\n",
    "\n",
    "\\begin{equation}\n",
    "    f(x, r) = \\begin{pmatrix}\n",
    "        r (x_1 + x_2) e^{-0.1(x_1 + x_2)} \\\\ x_1\n",
    "    \\end{pmatrix},\\quad x = (x_1, x_2)\n",
    "\\end{equation}"
   ]
  },
  {
   "cell_type": "code",
   "execution_count": 1,
   "metadata": {},
   "outputs": [],
   "source": [
    "import numpy as np\n",
    "import pathfollowing as pf\n",
    "import matplotlib.pyplot as plt\n",
    "import seaborn as sns\n",
    "%matplotlib inline\n",
    "sns.set('poster', 'whitegrid', 'dark', rc={\"lines.linewidth\": 2, 'grid.linestyle': '-'})"
   ]
  },
  {
   "cell_type": "code",
   "execution_count": 2,
   "metadata": {},
   "outputs": [],
   "source": [
    "def func(x, a):\n",
    "    return np.array([a[0] * (x[0] + x[1]) * np.exp(-0.1*(x[0]+x[1])) , x[0]])\n",
    "\n",
    "def dfdx(x,a):\n",
    "    return np.array([[ a[0]*np.exp(-0.1*(x[0]+x[1]))*(1.0 - 0.1*(x[0]+x[1])),a[0]*np.exp(-0.1*(x[0]+x[1]))*(1.0 - 0.1*(x[0]+x[1]))], [1.0, 0.0]])\n",
    "\n",
    "def dfda(x,a):\n",
    "    return np.array([(x[0] + x[1]) * np.exp(-0.1*(x[0]+x[1])), 0.0])"
   ]
  },
  {
   "cell_type": "markdown",
   "metadata": {},
   "source": [
    "安定な3周期点をみつける"
   ]
  },
  {
   "cell_type": "code",
   "execution_count": 3,
   "metadata": {},
   "outputs": [
    {
     "name": "stdout",
     "output_type": "stream",
     "text": [
      "[36.05632191  6.20482028]\n",
      "[ 6.20482028 36.05632191]\n",
      "[6.20482028 6.20482028]\n",
      "[36.05632191  6.20482028]\n",
      "[ 6.20482028 36.05632191]\n",
      "[6.20482028 6.20482028]\n",
      "[36.05632191  6.20482028]\n",
      "[ 6.20482028 36.05632191]\n",
      "[6.20482028 6.20482028]\n"
     ]
    }
   ],
   "source": [
    "x = np.array([1.0,1.0])\n",
    "a = np.array([10.05])\n",
    "for m in range(100):\n",
    "    x = func(x, a)\n",
    "    if m > 90:\n",
    "        print(x)"
   ]
  },
  {
   "cell_type": "code",
   "execution_count": 4,
   "metadata": {},
   "outputs": [
    {
     "name": "stdout",
     "output_type": "stream",
     "text": [
      "[6.20482028 6.20482028]\n"
     ]
    }
   ],
   "source": [
    "print(x)"
   ]
  },
  {
   "cell_type": "markdown",
   "metadata": {},
   "source": [
    "3周期点の追跡"
   ]
  },
  {
   "cell_type": "code",
   "execution_count": 5,
   "metadata": {},
   "outputs": [
    {
     "name": "stdout",
     "output_type": "stream",
     "text": [
      "# parameter arrived at boundary\n"
     ]
    }
   ],
   "source": [
    "a=np.array([10.05])\n",
    "bd,bp,lp,pd=pf.pathfollow(x, a, func, dfdx, dfda,nmax=300, h=0.05, epsr=1.0e-10, epsb=1.0e-10, amin=10.0,amax=20.0,problem='map', quiet=True, period=3)"
   ]
  },
  {
   "cell_type": "markdown",
   "metadata": {},
   "source": [
    "周期倍分岐点が検出されている"
   ]
  },
  {
   "cell_type": "code",
   "execution_count": 6,
   "metadata": {},
   "outputs": [
    {
     "data": {
      "text/plain": [
       "{'TY': 'P',\n",
       " 'x': array([3.65039653, 3.65039653]),\n",
       " 'a': array([14.10442894]),\n",
       " 'v': array([-0.29740519, -0.29740519,  0.90724876]),\n",
       " 'udim': 1,\n",
       " 'phi': array([0.76603973, 0.64279322, 0.        ])}"
      ]
     },
     "execution_count": 6,
     "metadata": {},
     "output_type": "execute_result"
    }
   ],
   "source": [
    "bd[pd[0]]"
   ]
  },
  {
   "cell_type": "markdown",
   "metadata": {},
   "source": [
    "周期6の周期点の枝に切り替える"
   ]
  },
  {
   "cell_type": "code",
   "execution_count": 7,
   "metadata": {},
   "outputs": [
    {
     "name": "stdout",
     "output_type": "stream",
     "text": [
      "# parameter arrived at boundary\n"
     ]
    }
   ],
   "source": [
    "v2 = pf.calcSwitchingVectorPD(bd[pd[0]], func, dfdx, dfda, period=6)\n",
    "x2=bd[pd[0]]['x']\n",
    "a2=bd[pd[0]]['a']\n",
    "bd2,bp2,lp2, pd2=pf.pathfollow(x2, a2, func, dfdx, dfda, w=v2, nmax=400, h=0.025, epsr=1.0e-10, epsb=1.0e-10, amin=10.0,amax=20.0,problem='map', quiet=True,period=6)"
   ]
  },
  {
   "cell_type": "markdown",
   "metadata": {},
   "source": [
    "周期倍分岐点が検出されている"
   ]
  },
  {
   "cell_type": "code",
   "execution_count": 8,
   "metadata": {},
   "outputs": [
    {
     "data": {
      "text/plain": [
       "{'TY': 'P',\n",
       " 'x': array([4.78940195, 6.76800969]),\n",
       " 'a': array([15.87450444]),\n",
       " 'v': array([0.1617148 , 0.72556074, 0.66888709]),\n",
       " 'udim': 1,\n",
       " 'phi': array([0.47744832, 0.87865984, 0.        ])}"
      ]
     },
     "execution_count": 8,
     "metadata": {},
     "output_type": "execute_result"
    }
   ],
   "source": [
    "bd2[pd2[0]]"
   ]
  },
  {
   "cell_type": "markdown",
   "metadata": {},
   "source": [
    "周期12の周期点の枝に切り替える"
   ]
  },
  {
   "cell_type": "code",
   "execution_count": 9,
   "metadata": {},
   "outputs": [
    {
     "name": "stdout",
     "output_type": "stream",
     "text": [
      "# parameter arrived at boundary\n"
     ]
    }
   ],
   "source": [
    "v4 = pf.calcSwitchingVectorPD(bd2[pd2[0]], func, dfdx, dfda, period=12)\n",
    "x4=bd2[pd2[0]]['x']\n",
    "a4=bd2[pd2[0]]['a']\n",
    "bd4,bp4,lp4, pd4=pf.pathfollow(x4, a4, func, dfdx, dfda, w=v4, nmax=800, h=0.0125, epsr=1.0e-10, amin=10.0,amax=20.0,epsb=1.0e-12, problem='map', quiet=True,period=12)"
   ]
  },
  {
   "cell_type": "code",
   "execution_count": 10,
   "metadata": {},
   "outputs": [
    {
     "name": "stdout",
     "output_type": "stream",
     "text": [
      "{'TY': 'P', 'x': array([4.29483468, 5.3470061 ]), 'a': array([16.31060259]), 'v': array([-0.338017  , -0.77613659,  0.53231241]), 'udim': 1, 'phi': array([0.93722738, 0.34871886, 0.        ])}\n"
     ]
    }
   ],
   "source": [
    "print(bd4[pd4[0]])"
   ]
  },
  {
   "cell_type": "markdown",
   "metadata": {},
   "source": [
    "周期24"
   ]
  },
  {
   "cell_type": "code",
   "execution_count": 11,
   "metadata": {},
   "outputs": [
    {
     "name": "stdout",
     "output_type": "stream",
     "text": [
      "# parameter arrived at boundary\n"
     ]
    }
   ],
   "source": [
    "v8 = pf.calcSwitchingVectorPD(bd4[pd4[0]], func, dfdx, dfda, period=24)\n",
    "x8=bd4[pd4[0]]['x']\n",
    "a8=bd4[pd4[0]]['a']\n",
    "bd8,bp8,lp8, pd8=pf.pathfollow(x8, a8, func, dfdx, dfda, w=v8, nmax=1600, h=0.00625, epsr=1.0e-10, amin=10.0,amax=20.0,epsb=1.0e-12, problem='map', quiet=True,period=24)"
   ]
  },
  {
   "cell_type": "code",
   "execution_count": 12,
   "metadata": {},
   "outputs": [
    {
     "name": "stdout",
     "output_type": "stream",
     "text": [
      "[14.10442894] [15.87450444] [16.31060259] [16.40625687]\n"
     ]
    }
   ],
   "source": [
    "print(bd[pd[0]]['a'], bd2[pd2[0]]['a'], bd4[pd4[0]]['a'], bd8[pd8[0]]['a'])"
   ]
  },
  {
   "cell_type": "code",
   "execution_count": 13,
   "metadata": {},
   "outputs": [],
   "source": [
    "bd_r = np.array([bd[m]['a'][0] for m in range(len(bd))])\n",
    "bd_x = np.array([bd[m]['x'][0] for m in range(len(bd))])\n",
    "bd_r2 = np.array([bd2[m]['a'][0] for m in range(len(bd2))])\n",
    "bd_x2 = np.array([bd2[m]['x'][0] for m in range(len(bd2))])\n",
    "bd_r4 = np.array([bd4[m]['a'][0] for m in range(len(bd4))])\n",
    "bd_x4 = np.array([bd4[m]['x'][0] for m in range(len(bd4))])\n",
    "bd_r8 = np.array([bd8[m]['a'][0] for m in range(len(bd8))])\n",
    "bd_x8 = np.array([bd8[m]['x'][0] for m in range(len(bd8))])"
   ]
  },
  {
   "cell_type": "code",
   "execution_count": 14,
   "metadata": {},
   "outputs": [
    {
     "data": {
      "text/plain": [
       "[<matplotlib.lines.Line2D at 0x23f0c51d070>]"
      ]
     },
     "execution_count": 14,
     "metadata": {},
     "output_type": "execute_result"
    },
    {
     "data": {
      "image/png": "[encoded data removed]",
      "text/plain": [
       "<Figure size 576x360 with 1 Axes>"
      ]
     },
     "metadata": {},
     "output_type": "display_data"
    }
   ],
   "source": [
    "fig = plt.figure(figsize=(8, 5))\n",
    "ax = fig.add_subplot(111)\n",
    "ax.set_xlim(10,20)\n",
    "ax.set_xlabel(\"$r$\")\n",
    "ax.set_ylabel(\"$x_1$\")\n",
    "ax.plot(bd_r ,bd_x, '-k')\n",
    "ax.plot(bd_r2,bd_x2, '-k')\n",
    "ax.plot(bd_r4,bd_x4, '-k')\n",
    "ax.plot(bd_r8,bd_x8, '-k')\n",
    "# plt.savefig(\"bd_leslie.pdf\", bbox_inches='tight')"
   ]
  }
 ],
 "metadata": {
  "file_extension": ".py",
  "kernelspec": {
   "display_name": "Python 3",
   "language": "python",
   "name": "python3"
  },
  "language_info": {
   "codemirror_mode": {
    "name": "ipython",
    "version": 3
   },
   "file_extension": ".py",
   "mimetype": "text/x-python",
   "name": "python",
   "nbconvert_exporter": "python",
   "pygments_lexer": "ipython3",
   "version": "3.9.0"
  },
  "mimetype": "text/x-python",
  "name": "python",
  "npconvert_exporter": "python",
  "pygments_lexer": "ipython3",
  "version": 3
 },
 "nbformat": 4,
 "nbformat_minor": 2
}
