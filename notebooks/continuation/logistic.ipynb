{
 "cells": [
  {
   "cell_type": "markdown",
   "metadata": {},
   "source": [
    "# ロジスティック写像\n",
    "\n",
    "$$\n",
    "f(x, a) = a x (1 - x)\n",
    "$$"
   ]
  },
  {
   "cell_type": "code",
   "execution_count": 1,
   "metadata": {},
   "outputs": [],
   "source": [
    "import numpy as np\n",
    "import pathfollowing as pf\n",
    "import matplotlib.pyplot as plt\n",
    "import seaborn as sns\n",
    "%matplotlib inline\n",
    "sns.set('poster', 'whitegrid', 'dark', rc={\"lines.linewidth\": 2, 'grid.linestyle': '-'})"
   ]
  },
  {
   "cell_type": "code",
   "execution_count": 2,
   "metadata": {},
   "outputs": [],
   "source": [
    "def func(x, a):\n",
    "    return np.array([a[0] * x[0] * (1.0 - x[0])])\n",
    "\n",
    "def dfdx(x,a):\n",
    "    return np.array([[a[0]*(1.0 - 2*x[0])]])\n",
    "\n",
    "def dfda(x,a):\n",
    "    return np.array([x[0]*(1.0 - x[0])])"
   ]
  },
  {
   "cell_type": "markdown",
   "metadata": {},
   "source": [
    "## 不動点の追跡\n",
    "\n",
    "- $(x, a) = (2/3, 3)$で周期倍分岐が起こる"
   ]
  },
  {
   "cell_type": "code",
   "execution_count": 3,
   "metadata": {},
   "outputs": [
    {
     "name": "stdout",
     "output_type": "stream",
     "text": [
      "# parameter arrived at boundary\n"
     ]
    }
   ],
   "source": [
    "x=np.array([0.5])\n",
    "a=np.array([2.0])\n",
    "bd,bp,lp,pd=pf.pathfollow(x, a, func, dfdx, dfda,nmax=45, h=0.05, epsr=1.0e-10, epsb=1.0e-10, amin=0.0,amax=4.0,problem='map', quiet=True)"
   ]
  },
  {
   "cell_type": "markdown",
   "metadata": {},
   "source": [
    "周期倍分岐点"
   ]
  },
  {
   "cell_type": "code",
   "execution_count": 4,
   "metadata": {},
   "outputs": [
    {
     "data": {
      "text/plain": [
       "{'TY': 'P',\n",
       " 'x': array([0.66666667]),\n",
       " 'a': array([3.]),\n",
       " 'v': array([0.10791044, 0.99416062]),\n",
       " 'udim': 1,\n",
       " 'phi': array([1., 0.])}"
      ]
     },
     "execution_count": 4,
     "metadata": {},
     "output_type": "execute_result"
    }
   ],
   "source": [
    "bd[pd[0]]"
   ]
  },
  {
   "cell_type": "markdown",
   "metadata": {},
   "source": [
    "## 周期点の追跡"
   ]
  },
  {
   "cell_type": "markdown",
   "metadata": {},
   "source": [
    "周期2の周期点の枝に切り替える"
   ]
  },
  {
   "cell_type": "code",
   "execution_count": 5,
   "metadata": {},
   "outputs": [
    {
     "name": "stdout",
     "output_type": "stream",
     "text": [
      "# parameter arrived at boundary\n"
     ]
    }
   ],
   "source": [
    "v2 = pf.calcSwitchingVectorPD(bd[pd[0]], func, dfdx, dfda, period=2)\n",
    "x2=bd[pd[0]]['x']\n",
    "a2=bd[pd[0]]['a']\n",
    "bd2,bp2,lp2, pd2=pf.pathfollow(x2, a2, func, dfdx, dfda, w=v2, nmax=65, h=0.025, epsr=1.0e-10, epsb=1.0e-10, amin=0.0,amax=4.0,problem='map', quiet=True,period=2)"
   ]
  },
  {
   "cell_type": "markdown",
   "metadata": {},
   "source": [
    "周期点の周期倍分岐"
   ]
  },
  {
   "cell_type": "code",
   "execution_count": 6,
   "metadata": {},
   "outputs": [
    {
     "data": {
      "text/plain": [
       "{'TY': 'P',\n",
       " 'x': array([0.43996017]),\n",
       " 'a': array([3.44948974]),\n",
       " 'v': array([-0.22692635,  0.97391192]),\n",
       " 'udim': 1,\n",
       " 'phi': array([1., 0.])}"
      ]
     },
     "execution_count": 6,
     "metadata": {},
     "output_type": "execute_result"
    }
   ],
   "source": [
    "bd2[pd2[0]]"
   ]
  },
  {
   "cell_type": "markdown",
   "metadata": {},
   "source": [
    "周期4の周期点の枝に切り替える"
   ]
  },
  {
   "cell_type": "code",
   "execution_count": 7,
   "metadata": {},
   "outputs": [
    {
     "name": "stdout",
     "output_type": "stream",
     "text": [
      "# parameter arrived at boundary\n"
     ]
    }
   ],
   "source": [
    "v4 = pf.calcSwitchingVectorPD(bd2[pd2[0]], func, dfdx, dfda, period=4)\n",
    "x4=bd2[pd2[0]]['x']\n",
    "a4=bd2[pd2[0]]['a']\n",
    "bd4,bp4,lp4, pd4=pf.pathfollow(x4, a4, func, dfdx, dfda, w=v4, nmax=65, h=0.0125, epsr=1.0e-10, amin=0.0,amax=4.0,epsb=1.0e-12, problem='map', quiet=True,period=4)"
   ]
  },
  {
   "cell_type": "markdown",
   "metadata": {},
   "source": [
    "周期8の周期点の枝に切り替える"
   ]
  },
  {
   "cell_type": "code",
   "execution_count": 8,
   "metadata": {},
   "outputs": [
    {
     "name": "stdout",
     "output_type": "stream",
     "text": [
      "# parameter arrived at boundary\n"
     ]
    }
   ],
   "source": [
    "v8 = pf.calcSwitchingVectorPD(bd4[pd4[0]], func, dfdx, dfda, period=8)\n",
    "x8=bd4[pd4[0]]['x']\n",
    "a8=bd4[pd4[0]]['a']\n",
    "bd8,bp8,lp8, pd8=pf.pathfollow(x8, a8, func, dfdx, dfda, w=v8, nmax=130, h=0.00625, epsr=1.0e-10, amin=0.0,amax=4.0,epsb=1.0e-12, problem='map', quiet=True,period=8)"
   ]
  },
  {
   "cell_type": "markdown",
   "metadata": {},
   "source": [
    "これまでにもとめた周期倍分岐点のパラメータ値$a$"
   ]
  },
  {
   "cell_type": "code",
   "execution_count": 9,
   "metadata": {},
   "outputs": [
    {
     "name": "stdout",
     "output_type": "stream",
     "text": [
      "[3.] [3.44948974] [3.54409036] [3.56440727]\n"
     ]
    }
   ],
   "source": [
    "print(bd[pd[0]]['a'], bd2[pd2[0]]['a'], bd4[pd4[0]]['a'], bd8[pd8[0]]['a'])"
   ]
  },
  {
   "cell_type": "code",
   "execution_count": 10,
   "metadata": {},
   "outputs": [
    {
     "name": "stdout",
     "output_type": "stream",
     "text": [
      "[7]\n"
     ]
    }
   ],
   "source": [
    "print(pd8)"
   ]
  },
  {
   "cell_type": "code",
   "execution_count": 11,
   "metadata": {},
   "outputs": [],
   "source": [
    "bd_r = np.array([bd[m]['a'][0] for m in range(len(bd))])\n",
    "bd_x = np.array([bd[m]['x'][0] for m in range(len(bd))])\n",
    "bd_r2 = np.array([bd2[m]['a'][0] for m in range(len(bd2))])\n",
    "bd_x2 = np.array([bd2[m]['x'][0] for m in range(len(bd2))])\n",
    "bd_r4 = np.array([bd4[m]['a'][0] for m in range(len(bd4))])\n",
    "bd_x4 = np.array([bd4[m]['x'][0] for m in range(len(bd4))])\n",
    "bd_r8 = np.array([bd8[m]['a'][0] for m in range(len(bd8))])\n",
    "bd_x8 = np.array([bd8[m]['x'][0] for m in range(len(bd8))])"
   ]
  },
  {
   "cell_type": "code",
   "execution_count": 12,
   "metadata": {},
   "outputs": [],
   "source": [
    "def f(x,a):\n",
    "    return a*x*(1-x)\n",
    "\n",
    "bd_x22 = np.array([f(bd_x2[m], bd_r2[m]) for m in range(len(bd2))])\n",
    "bd_x42 = np.array([f(bd_x4[m], bd_r4[m]) for m in range(len(bd4))])\n",
    "bd_x43 = np.array([f(bd_x42[m], bd_r4[m]) for m in range(len(bd4))])\n",
    "bd_x44 = np.array([f(bd_x43[m], bd_r4[m]) for m in range(len(bd4))])\n",
    "bd_x82 = np.array([f(bd_x8[m], bd_r8[m]) for m in range(len(bd8))])\n",
    "bd_x83 = np.array([f(bd_x82[m], bd_r8[m]) for m in range(len(bd8))])\n",
    "bd_x84 = np.array([f(bd_x83[m], bd_r8[m]) for m in range(len(bd8))])\n",
    "bd_x85 = np.array([f(bd_x84[m], bd_r8[m]) for m in range(len(bd8))])\n",
    "bd_x86 = np.array([f(bd_x85[m], bd_r8[m]) for m in range(len(bd8))])\n",
    "bd_x87 = np.array([f(bd_x86[m], bd_r8[m]) for m in range(len(bd8))])\n",
    "bd_x88 = np.array([f(bd_x87[m], bd_r8[m]) for m in range(len(bd8))])"
   ]
  },
  {
   "cell_type": "code",
   "execution_count": 13,
   "metadata": {},
   "outputs": [
    {
     "data": {
      "text/plain": [
       "[<matplotlib.lines.Line2D at 0x27e55ea5520>]"
      ]
     },
     "execution_count": 13,
     "metadata": {},
     "output_type": "execute_result"
    },
    {
     "data": {
      "image/png": "[encoded data removed]",
      "text/plain": [
       "<Figure size 576x360 with 1 Axes>"
      ]
     },
     "metadata": {},
     "output_type": "display_data"
    }
   ],
   "source": [
    "fig = plt.figure(figsize=(8, 5))\n",
    "ax = fig.add_subplot(111)\n",
    "ax.set_xlim(2,4)\n",
    "ax.set_ylim(0.2, 1)\n",
    "ax.set_xlabel(\"$a$\")\n",
    "ax.set_ylabel(\"$x$\")\n",
    "ax.plot(bd_r ,bd_x, '-k')\n",
    "ax.plot(bd_r2, bd_x2, '-k')\n",
    "ax.plot(bd_r2, bd_x22, '-k')\n",
    "ax.plot(bd_r4, bd_x4, '-k')\n",
    "ax.plot(bd_r4, bd_x42, '-k')\n",
    "ax.plot(bd_r4, bd_x43, '-k')\n",
    "ax.plot(bd_r4, bd_x44, '-k')\n",
    "ax.plot(bd_r8, bd_x8, '-k')\n",
    "ax.plot(bd_r8, bd_x82, '-k')\n",
    "ax.plot(bd_r8, bd_x83, '-k')\n",
    "ax.plot(bd_r8, bd_x84, '-k')\n",
    "ax.plot(bd_r8, bd_x85, '-k')\n",
    "ax.plot(bd_r8, bd_x86, '-k')\n",
    "ax.plot(bd_r8, bd_x87, '-k')\n",
    "ax.plot(bd_r8, bd_x88, '-k')\n",
    "# plt.savefig(\"bd_logistic.pdf\", bbox_inches='tight')"
   ]
  }
 ],
 "metadata": {
  "file_extension": ".py",
  "kernelspec": {
   "display_name": "Python 3",
   "language": "python",
   "name": "python3"
  },
  "language_info": {
   "codemirror_mode": {
    "name": "ipython",
    "version": 3
   },
   "file_extension": ".py",
   "mimetype": "text/x-python",
   "name": "python",
   "nbconvert_exporter": "python",
   "pygments_lexer": "ipython3",
   "version": "3.9.0"
  },
  "mimetype": "text/x-python",
  "name": "python",
  "npconvert_exporter": "python",
  "pygments_lexer": "ipython3",
  "version": 3
 },
 "nbformat": 4,
 "nbformat_minor": 2
}
