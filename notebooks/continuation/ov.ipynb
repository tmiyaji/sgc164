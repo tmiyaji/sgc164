{
 "cells": [
  {
   "cell_type": "markdown",
   "metadata": {},
   "source": [
    "# OVモデル"
   ]
  },
  {
   "cell_type": "code",
   "execution_count": 1,
   "metadata": {},
   "outputs": [],
   "source": [
    "import numpy as np\n",
    "import pathfollowing as pf\n",
    "import numpy.random as rd\n",
    "from scipy.integrate import ode, solve_ivp\n",
    "from scipy.linalg import solve, eigvals\n",
    "import matplotlib.pyplot as plt\n",
    "import seaborn as sns\n",
    "%matplotlib inline\n",
    "sns.set('poster', 'whitegrid', 'dark', rc={\"lines.linewidth\": 2, 'grid.linestyle': '-'})"
   ]
  },
  {
   "cell_type": "code",
   "execution_count": 2,
   "metadata": {},
   "outputs": [],
   "source": [
    "Ncars = 10\n",
    "\n",
    "def V(x):\n",
    "    return np.tanh(x - 2) + np.tanh(2)\n",
    "\n",
    "def dV(x):\n",
    "    return 1.0 / np.cosh(x-2)**2\n",
    "\n",
    "def OV(t, x, a):\n",
    "    y = np.zeros(2*(Ncars-1))\n",
    "    for k in range(Ncars-2):\n",
    "        y[2*k] = x[2*k+1]\n",
    "        y[2*k+1] = V(x[2*(k+1)]) - V(x[2*k]) - x[2*k+1]\n",
    "    y[-2] = x[-1]\n",
    "    y[-1] = V(a - np.sum([x[::2]])) - V(x[-2]) - x[-1]\n",
    "    return y\n",
    "\n",
    "def f(x, a):\n",
    "    y = np.zeros(2*(Ncars-1))\n",
    "    for k in range(Ncars-2):\n",
    "        y[2*k] = x[2*k+1]\n",
    "        y[2*k+1] = V(x[2*(k+1)]) - V(x[2*k]) - x[2*k+1]\n",
    "    y[-2] = x[-1]\n",
    "    y[-1] = V(a[0] - np.sum([x[::2]])) - V(x[-2]) - x[-1]\n",
    "    return y\n",
    "\n",
    "def fx(x, a):\n",
    "    A = np.zeros((2*(Ncars-1), 2*(Ncars-1)))\n",
    "    for k in range(Ncars - 2):\n",
    "        A[2*k, 2*k+1] = 1.0\n",
    "        A[2*k+1, 2*k] = -dV(x[2*k])\n",
    "        A[2*k+1, 2*k+1] = -1.0\n",
    "        A[2*k+1, 2*(k+1)] = dV(x[2*(k+1)])\n",
    "    A[-2, -1] = 1.0\n",
    "    A[-1, ::2] = -dV(a[0] - np.sum([x[::2]]))\n",
    "    A[-1, -2] += -dV(x[-2])\n",
    "    A[-1, -1] = -1.0\n",
    "    return A\n",
    "\n",
    "def fa(x, a):\n",
    "    y = np.zeros(2*(Ncars-1))\n",
    "    y[-1] = dV(a[0] - np.sum([x[::2]]))\n",
    "    return y"
   ]
  },
  {
   "cell_type": "code",
   "execution_count": 3,
   "metadata": {},
   "outputs": [],
   "source": [
    "Npts = 64\n",
    "def func(x, a):\n",
    "    T = x[-1]\n",
    "    h = 1.0 / Npts\n",
    "    n = (len(x) - 1) // Npts\n",
    "    ss = np.sin([2*np.pi*j*h for j in range(Npts)])\n",
    "    y = np.zeros(len(x))\n",
    "    # tau_0 = 0\n",
    "    y[:n] = (x[n:2*n] - x[(Npts-1)*n:Npts*n])*0.5/h - T * f(x[:n], a)\n",
    "    # tau_1 ... tau_{N-2}\n",
    "    for j in range(1, Npts-1):\n",
    "        y[j*n:(j+1)*n] = (x[(j+1)*n:(j+2)*n] - x[(j-1)*n:j*n])*0.5/h - T * f(x[j*n:(j+1)*n], a)\n",
    "    # tau_{N-1} = (N-1) * h\n",
    "    y[(Npts-1)*n:Npts*n] = (x[:n] - x[(Npts-2)*n:(Npts-1)*n])*0.5/h - T * f(x[(Npts-1)*n:Npts*n], a)\n",
    "    # Phase condition\n",
    "    y[-1] = x[:-1:n] @ ss\n",
    "    return y\n",
    "\n",
    "def dfdx(x, a):\n",
    "    T = x[-1]\n",
    "    n = (len(x)-1) // Npts\n",
    "    h = 1.0 / Npts\n",
    "    A = np.zeros((len(x), len(x)))\n",
    "    I = np.identity(n)\n",
    "    # j = 0\n",
    "    A[:n, n:2*n] += I * 0.5 / h\n",
    "    A[:n, (Npts-1)*n:Npts*n] -= I * 0.5 / h\n",
    "    A[:n,:n] += -T * fx(x[:n], a)\n",
    "    A[:n,-1] += -f(x[:n], a)\n",
    "    # j = 1 ... N-2\n",
    "    for j in range(1, Npts-1):\n",
    "        A[j*n:(j+1)*n, (j+1)*n:(j+2)*n] += I * 0.5 / h\n",
    "        A[j*n:(j+1)*n, (j-1)*n:j*n] -= I * 0.5 / h\n",
    "        A[j*n:(j+1)*n, j*n:(j+1)*n] += -T * fx(x[j*n:(j+1)*n], a)\n",
    "        A[j*n:(j+1)*n, -1] = -f(x[j*n:(j+1)*n], a)\n",
    "    # j = N - 1\n",
    "    A[(Npts-1)*n:Npts*n, :n] += I * 0.5 / h\n",
    "    A[(Npts-1)*n:Npts*n, (Npts-2)*n:(Npts-1)*n] -= I * 0.5 / h\n",
    "    A[(Npts-1)*n:Npts*n, (Npts-1)*n:Npts*n] += -T*fx(x[(Npts-1)*n:Npts*n], a)\n",
    "    A[(Npts-1)*n:Npts*n, -1] += -f(x[(Npts-1)*n:Npts*n], a)\n",
    "    # Phase condition\n",
    "    A[-1, :-1:n] = np.sin([2*np.pi*j*h for j in range(Npts)])\n",
    "    return A\n",
    "\n",
    "def dfda(x, a):\n",
    "    T = x[-1]\n",
    "    n = (len(x) - 1) // Npts\n",
    "    h = 1.0 / Npts\n",
    "    b = np.zeros(len(x))\n",
    "    for j in range(Npts):\n",
    "        b[j*n:(j+1)*n] = -T*fa(x[j*n:(j+1)*n], a)\n",
    "    return b"
   ]
  },
  {
   "cell_type": "markdown",
   "metadata": {},
   "source": [
    "一様交通流の追跡"
   ]
  },
  {
   "cell_type": "code",
   "execution_count": 4,
   "metadata": {},
   "outputs": [
    {
     "data": {
      "text/plain": [
       "array([0., 0., 0., 0., 0., 0., 0., 0., 0., 0., 0., 0., 0., 0., 0., 0., 0.,\n",
       "       0.])"
      ]
     },
     "execution_count": 4,
     "metadata": {},
     "output_type": "execute_result"
    }
   ],
   "source": [
    "a=np.array([1.0])\n",
    "x=np.array([a[0] / Ncars if m%2==0 else 0.0 for m in range(2*(Ncars-1))])\n",
    "f(x,a)"
   ]
  },
  {
   "cell_type": "code",
   "execution_count": 5,
   "metadata": {},
   "outputs": [],
   "source": [
    "a=np.array([1.0])\n",
    "x=np.array([a[0] / Ncars if m%2==0 else 0.0 for m in range(2*(Ncars-1))])\n",
    "bd,bp,lp,hb=pf.pathfollow(x, a, f, fx, fa, nmax=50, h=1.0, epsr=1.0e-10, epsb=1.0e-10, problem='equilibria', quiet=True)"
   ]
  },
  {
   "cell_type": "code",
   "execution_count": 6,
   "metadata": {},
   "outputs": [
    {
     "name": "stdout",
     "output_type": "stream",
     "text": [
      "[12, 16, 28, 32]\n",
      "[48.89131426]\n"
     ]
    }
   ],
   "source": [
    "print(hb)\n",
    "print(bd[-1]['a'])"
   ]
  },
  {
   "cell_type": "code",
   "execution_count": 7,
   "metadata": {},
   "outputs": [],
   "source": [
    "bd_r = np.array([bd[m]['a'][0] for m in range(len(bd))])\n",
    "bd_x = np.array([bd[m]['x'][0] for m in range(len(bd))])"
   ]
  },
  {
   "cell_type": "code",
   "execution_count": 8,
   "metadata": {},
   "outputs": [
    {
     "data": {
      "text/plain": [
       "[<matplotlib.lines.Line2D at 0x1ee78934580>]"
      ]
     },
     "execution_count": 8,
     "metadata": {},
     "output_type": "execute_result"
    },
    {
     "data": {
      "image/png": "[encoded data removed]",
      "text/plain": [
       "<Figure size 432x288 with 1 Axes>"
      ]
     },
     "metadata": {},
     "output_type": "display_data"
    }
   ],
   "source": [
    "fig = plt.figure()\n",
    "ax = fig.add_subplot(111)\n",
    "ax.plot(bd_r, bd_r/Ncars)\n",
    "ax.plot(bd_r, bd_x, '.')"
   ]
  },
  {
   "cell_type": "markdown",
   "metadata": {},
   "source": [
    "渋滞流への追跡の切り替え"
   ]
  },
  {
   "cell_type": "code",
   "execution_count": 9,
   "metadata": {},
   "outputs": [],
   "source": [
    "vr = bd[hb[0]]['vr']\n",
    "vi = bd[hb[0]]['vi']\n",
    "vr /= np.sqrt(vr@vr)\n",
    "vi /= np.sqrt(vi@vi)\n",
    "rr = np.hypot(vr, vi)\n",
    "tt = np.array([np.angle(vr[i]+1.j*vi[i]) for i in range(len(vr))])\n",
    "ev = eigvals(fx(bd[hb[0]+1]['x'], bd[hb[0]+1]['a']))"
   ]
  },
  {
   "cell_type": "code",
   "execution_count": 10,
   "metadata": {},
   "outputs": [
    {
     "data": {
      "text/plain": [
       "array([ 0.00599689+0.3462406j ,  0.00599689-0.3462406j ,\n",
       "       -0.0375592 +0.61299556j, -0.0375592 -0.61299556j,\n",
       "       -0.14929177+0.80829059j, -0.14929177-0.80829059j,\n",
       "       -0.31151055+0.9294773j , -0.31151055-0.9294773j ,\n",
       "       -0.5       +0.97069536j, -0.5       -0.97069536j,\n",
       "       -0.68848945+0.9294773j , -0.68848945-0.9294773j ,\n",
       "       -0.85070823+0.80829059j, -0.85070823-0.80829059j,\n",
       "       -0.9624408 +0.61299556j, -0.9624408 -0.61299556j,\n",
       "       -1.00599689+0.3462406j , -1.00599689-0.3462406j ])"
      ]
     },
     "execution_count": 10,
     "metadata": {},
     "output_type": "execute_result"
    }
   ],
   "source": [
    "ev"
   ]
  },
  {
   "cell_type": "code",
   "execution_count": 11,
   "metadata": {},
   "outputs": [],
   "source": [
    "ndim = 2*(Ncars-1)\n",
    "x = np.zeros(ndim*Npts+1)\n",
    "da = np.abs(bd[hb[0]]['a'][0] - bd[hb[0]+1]['a'][0])\n",
    "for j in range(Npts):\n",
    "    x[ndim*j:ndim*(j+1)] = bd[hb[0]+1]['x'] + 10 * np.sqrt(da) * rr * np.cos(2*np.pi*j/Npts + tt - tt[0])\n",
    "x[-1] = 2*np.pi/np.imag(ev[0])"
   ]
  },
  {
   "cell_type": "code",
   "execution_count": 12,
   "metadata": {},
   "outputs": [
    {
     "name": "stdout",
     "output_type": "stream",
     "text": [
      "227.27766704752872\n",
      "129.16442819858497\n",
      "18.24059643041813\n",
      "1.6893587392218044\n",
      "0.0359003496082432\n",
      "1.7101534471879468e-05\n",
      "4.28301792683525e-12\n",
      "1.2826154611482426e-13\n",
      "1.0209239286996085e-13\n",
      "1.186202405464889e-13\n",
      "[3.31242175e+00 1.67448641e-02 2.39836298e+00 ... 7.81296637e-01\n",
      " 6.19678563e-01 1.75678008e+01]\n"
     ]
    }
   ],
   "source": [
    "y = np.copy(x)\n",
    "a = bd[hb[0]+1]['a']\n",
    "for m in range(10):\n",
    "    b = func(y, a)\n",
    "    A = dfdx(y, a)\n",
    "    y -= solve(A, b)\n",
    "    print(np.linalg.norm(b))\n",
    "# x = np.copy(y)\n",
    "print(y)"
   ]
  },
  {
   "cell_type": "code",
   "execution_count": 13,
   "metadata": {},
   "outputs": [
    {
     "data": {
      "text/plain": [
       "[<matplotlib.lines.Line2D at 0x1ee78c37520>]"
      ]
     },
     "execution_count": 13,
     "metadata": {},
     "output_type": "execute_result"
    },
    {
     "data": {
      "image/png": "[encoded data removed]",
      "text/plain": [
       "<Figure size 432x288 with 1 Axes>"
      ]
     },
     "metadata": {},
     "output_type": "display_data"
    }
   ],
   "source": [
    "fig = plt.figure()\n",
    "ax = fig.add_subplot(111)\n",
    "ax.plot(x[1:-1:2*ndim],'o-')\n",
    "ax.plot(x[3:-1:2*ndim],'o-')\n",
    "ax.plot(x[5:-1:2*ndim],'o-')"
   ]
  },
  {
   "cell_type": "code",
   "execution_count": 14,
   "metadata": {},
   "outputs": [
    {
     "name": "stdout",
     "output_type": "stream",
     "text": [
      "# TY a x\n",
      "R 12.708549661388064 3.3438164358058398\n",
      "R 12.928966384532444 3.3716859821948053\n",
      "R 13.154121232838587 3.396471923082832\n",
      "R 13.383172706277197 3.418567790569729\n",
      "R 13.61544179190947 3.4383174894435387\n",
      "R 13.850378828088326 3.4560185416601588\n",
      "R 14.08753699157525 3.471928077831348\n",
      "R 14.326551356284735 3.486269412734178\n",
      "R 14.567122422425358 3.4992373636869516\n",
      "R 14.809003172591261 3.5110014197120645\n",
      "R 15.051988907832753 3.521707161154763\n",
      "R 15.295909247472204 3.531477310934275\n",
      "R 15.540621779201315 3.5404139055728003\n",
      "R 15.78600698097145 3.5486022445866765\n",
      "R 16.03196415948707 3.556116010017632\n",
      "R 16.278408197320307 3.56302199445637\n",
      "R 16.525266911537724 3.569382805734309\n",
      "R 16.77247887752544 3.575256810451824\n",
      "R 17.019991642415672 3.580695969262655\n",
      "R 17.267760270425363 3.585743320023729\n",
      "R 17.515746137935817 3.5904320257426994\n",
      "R 17.763915905301364 3.594787003180451\n",
      "R 18.012240642263578 3.5988286789640713\n",
      "R 18.26069510358412 3.6025771910522026\n",
      "R 18.509257120867158 3.6060550316512097\n",
      "R 18.757907061416308 3.6092868965989204\n",
      "R 19.006627340134518 3.6122969709468777\n",
      "R 19.255401999681094 3.6151052540914193\n",
      "R 19.50421635106576 3.6177250455264893\n",
      "R 19.75305663659464 3.620163074157377\n",
      "R 20.001909695758386 3.6224223094439734\n",
      "R 20.250762651143525 3.6245060315249877\n",
      "R 20.499602622988725 3.626421041653542\n",
      "R 20.74841644365006 3.628178330517401\n",
      "R 20.997190343289716 3.6297908661280647\n",
      "R 21.245909615476766 3.631269705986827\n",
      "R 21.494558279744354 3.632620542717694\n",
      "R 21.743118721590783 3.633842553628553\n",
      "R 21.991571271811786 3.63493017068221\n",
      "R 22.239893717405497 3.6358768061211606\n",
      "R 22.48806075926424 3.6366785119978497\n",
      "R 22.736043402523446 3.637335576318192\n",
      "R 22.983808230274818 3.637851152329493\n",
      "R 23.231316526603973 3.638227606434724\n",
      "R 23.47852324556093 3.638462499352612\n",
      "R 23.725375802746537 3.6385463028260596\n",
      "R 23.971812616185126 3.6384629871578644\n",
      "R 24.21776131409186 3.6381930246488814\n",
      "R 24.463136551686933 3.6377170115712922\n",
      "R 24.70783736106407 3.637017742883973\n",
      "R 24.95174388708277 3.636079381910282\n",
      "R 25.194713311401795 3.634883925522942\n",
      "R 25.4365747559284 3.6334066240622236\n",
      "R 25.677122909404176 3.6316125457898725\n",
      "R 25.916109996924632 3.629455751239557\n",
      "R 26.153235576890904 3.6268809566431788\n",
      "R 26.388133547180235 3.6238260208620137\n",
      "R 26.620355611562697 3.6202229853696424\n",
      "R 26.84935026115121 3.6159961166767562\n",
      "R 27.07443617003033 3.611057081586681\n",
      "R 27.29476896010623 3.605299080232698\n",
      "R 27.509300739825576 3.5985924711006883\n",
      "R 27.716733061062325 3.5907837554982014\n",
      "R 27.915466812022654 3.5816983253108816\n",
      "R 28.103558284876335 3.5711463848223555\n",
      "R 28.27870027969024 3.5589319903711405\n",
      "R 28.438260006707736 3.544866974239006\n",
      "R 28.579415887346 3.5287925870781405\n",
      "R 28.699427984012434 3.5106091257378176\n",
      "R 28.79603165571037 3.4903068378244124\n",
      "R 28.867861658497265 3.467984514147724\n",
      "R 28.91474711335335 3.443843476253784\n",
      "R 28.93774577862428 3.418156687625008\n",
      "R 28.938914471626696 3.3912262266861948\n",
      "R 28.92093764342009 3.363345668868782\n",
      "R 28.886762631510905 3.3347766416033156\n",
      "R 28.839331471625478 3.3057396767682192\n",
      "R 28.78142753785116 3.2764147498463836\n",
      "R 28.71561446269544 3.24694654646522\n",
      "R 28.644235094450192 3.2174510033618784\n",
      "R 28.569444128781665 3.1880212077814503\n",
      "R 28.493257475926775 3.1587316768987646\n",
      "R 28.4176092153758 3.1296403490538367\n",
      "R 28.344411990729448 3.1007873735056846\n",
      "R 28.275618939255335 3.072188904589524\n",
      "R 28.213284026296428 3.0438221763694675\n",
      "R 28.159609242741094 3.0155940960182446\n",
      "R 28.11693969962508 2.987277081517274\n",
      "R 28.087590111262553 2.9583782483524215\n",
      "R 28.073198272509185 2.9278764752602484\n",
      "R 28.07300362538337 2.8937433064873095\n",
      "R 28.080784315397878 2.852424512596257\n",
      "R 28.084479707700133 2.799976596733315\n",
      "R 28.07831493776679 2.736845162431726\n",
      "R 28.0718089048164 2.6677505680747187\n",
      "R 28.07588514520785 2.596185912943566\n",
      "R 28.094806471879878 2.5238348307910976\n",
      "R 28.128345005797197 2.451458780266101\n",
      "R 28.174542719274413 2.3793529868545478\n",
      "R 28.231037582689982 2.3075621589707898\n"
     ]
    }
   ],
   "source": [
    "x = np.copy(y)\n",
    "bdc=pf.pathfollow00(x, a, func, dfdx, dfda, nmax=100, h=1.0, epsr=1.0e-10, epsb=1.0e-10)"
   ]
  },
  {
   "cell_type": "code",
   "execution_count": 15,
   "metadata": {},
   "outputs": [],
   "source": [
    "bdc_r = np.array([bdc[m]['a'][0] for m in range(len(bdc))])\n",
    "bdc_xmax = np.array([np.max(bdc[m]['x'][:-1:2*ndim]) for m in range(len(bdc))])\n",
    "bdc_xmin = np.array([np.min(bdc[m]['x'][:-1:2*ndim]) for m in range(len(bdc))])"
   ]
  },
  {
   "cell_type": "code",
   "execution_count": 16,
   "metadata": {},
   "outputs": [
    {
     "name": "stdout",
     "output_type": "stream",
     "text": [
      "# TY a x\n",
      "R 12.286363867785383 3.2770222665024837\n",
      "R 12.08748405019737 3.2371166792866015\n",
      "R 11.899214193923575 3.19221837659411\n",
      "R 11.723856055635945 3.1419084772842854\n",
      "R 11.564038188301637 3.0859111207801937\n",
      "R 11.422580963121616 3.0241836691898394\n",
      "R 11.302228268439018 2.9570005791454443\n",
      "R 11.205255265565459 2.884994999441965\n",
      "R 11.13304363973707 2.809121841263116\n",
      "R 11.085783452674155 2.7305338220634945\n",
      "R 11.06243448759242 2.6504078002246705\n",
      "R 11.060952508918861 2.5697856811950945\n",
      "R 11.078659715116421 2.4894780707222233\n",
      "R 11.112610461974935 2.410038631325939\n",
      "R 11.159861209368032 2.3317876992650257\n",
      "R 11.217625517394364 2.254857752189831\n",
      "R 11.283336286357398 2.1792413992905333\n",
      "R 11.354647492179904 2.1048327181593907\n",
      "R 11.42940191737311 2.0314596486847614\n",
      "R 11.505581953736833 1.9589085163830038\n",
      "R 11.58125272289356 1.8869429525991073\n",
      "R 11.65450171739797 1.8153197456201162\n",
      "R 11.723376880107637 1.7438042803163938\n",
      "R 11.78582619501316 1.6721887241113513\n",
      "R 11.839650107443822 1.6003175585482539\n",
      "R 11.88250506152058 1.5281284516866769\n",
      "R 11.912072837073891 1.4557239495592136\n",
      "R 11.926696094862228 1.3835059863326795\n",
      "R 11.927078242633591 1.3124455894326787\n",
      "R 11.919336234980666 1.2446518292643556\n",
      "R 11.915495150920233 1.1841462581025826\n",
      "R 11.921554087483596 1.134996063239912\n",
      "R 11.928152073514235 1.0961006538717963\n",
      "R 11.924284796444462 1.0632659834975546\n",
      "R 11.905594878483367 1.0333610628629555\n",
      "R 11.872266275928652 1.0046970162569322\n",
      "R 11.826243740596917 0.9764381484551794\n",
      "R 11.769887954369048 0.94818519157153\n",
      "R 11.705510785898166 0.9197577449885382\n",
      "R 11.635269585623647 0.8910870867534502\n",
      "R 11.561184153612537 0.8621636315895566\n",
      "R 11.48518991227548 0.8330113109772228\n",
      "R 11.409199314820656 0.8036756528088612\n",
      "R 11.335163521860954 0.7742192473584932\n",
      "R 11.26513204372985 0.7447215673293828\n",
      "R 11.201308095522828 0.7152816734619741\n",
      "R 11.146094380687341 0.6860230142410648\n",
      "R 11.102118231200013 0.6570996166488053\n",
      "R 11.072216584471258 0.6287024865725862\n",
      "R 11.059352138551596 0.6010639198508397\n"
     ]
    }
   ],
   "source": [
    "x = np.copy(y)\n",
    "bdc2=pf.pathfollow00(x, a, func, dfdx, dfda, nmax=50, h=-1.0, epsr=1.0e-10, epsb=1.0e-10)"
   ]
  },
  {
   "cell_type": "code",
   "execution_count": 17,
   "metadata": {},
   "outputs": [],
   "source": [
    "bdc2_r = np.array([pt['a'][0] for pt in bdc2])\n",
    "bdc2_xmax = np.array([np.max(pt['x'][:-1:2*ndim]) for pt in bdc2])\n",
    "bdc2_xmin = np.array([np.min(pt['x'][:-1:2*ndim]) for pt in bdc2])"
   ]
  },
  {
   "cell_type": "code",
   "execution_count": 18,
   "metadata": {},
   "outputs": [
    {
     "data": {
      "text/plain": [
       "[<matplotlib.lines.Line2D at 0x1ee78ca2b50>]"
      ]
     },
     "execution_count": 18,
     "metadata": {},
     "output_type": "execute_result"
    },
    {
     "data": {
      "image/png": "[encoded data removed]",
      "text/plain": [
       "<Figure size 432x288 with 1 Axes>"
      ]
     },
     "metadata": {},
     "output_type": "display_data"
    }
   ],
   "source": [
    "fig = plt.figure()\n",
    "ax = fig.add_subplot(111)\n",
    "ax.set_xlabel(\"L\")\n",
    "ax.plot(bd_r, bd_x, '-')\n",
    "ax.plot(bdc_r[:93], bdc_xmax[:93], '-k')\n",
    "ax.plot(bdc_r[:93], bdc_xmin[:93], '-k')\n",
    "ax.plot(bdc2_r[:31], bdc2_xmax[:31], '-k')\n",
    "ax.plot(bdc2_r[:31], bdc2_xmin[:31], '-k')"
   ]
  },
  {
   "cell_type": "markdown",
   "metadata": {},
   "source": [
    "一様交通流から別の渋滞流に切り替える"
   ]
  },
  {
   "cell_type": "code",
   "execution_count": 19,
   "metadata": {},
   "outputs": [],
   "source": [
    "vr = bd[hb[1]]['vr']\n",
    "vi = bd[hb[1]]['vi']\n",
    "vr /= np.sqrt(vr@vr)\n",
    "vi /= np.sqrt(vi@vi)\n",
    "rr = np.hypot(vr, vi)\n",
    "tt = np.array([np.angle(vr[i]+1.j*vi[i]) for i in range(len(vr))])\n",
    "ev = eigvals(fx(bd[hb[1]+1]['x'], bd[hb[1]+1]['a']))"
   ]
  },
  {
   "cell_type": "code",
   "execution_count": 20,
   "metadata": {},
   "outputs": [
    {
     "data": {
      "text/plain": [
       "array([ 0.03935514+0.44285787j,  0.03935514-0.44285787j,\n",
       "        0.01078902+0.75663299j,  0.01078902-0.75663299j,\n",
       "       -0.10721763+0.98395411j, -0.10721763-0.98395411j,\n",
       "       -0.28765862+1.12487577j, -0.28765862-1.12487577j,\n",
       "       -0.5       +1.17280679j, -0.5       -1.17280679j,\n",
       "       -0.71234138+1.12487577j, -0.71234138-1.12487577j,\n",
       "       -0.89278237+0.98395411j, -0.89278237-0.98395411j,\n",
       "       -1.01078902+0.75663299j, -1.01078902-0.75663299j,\n",
       "       -1.03935514+0.44285787j, -1.03935514-0.44285787j])"
      ]
     },
     "execution_count": 20,
     "metadata": {},
     "output_type": "execute_result"
    }
   ],
   "source": [
    "ev"
   ]
  },
  {
   "cell_type": "code",
   "execution_count": 21,
   "metadata": {},
   "outputs": [],
   "source": [
    "ndim = 2*(Ncars-1)\n",
    "x = np.zeros(ndim*Npts+1)\n",
    "da = np.abs(bd[hb[1]]['a'][0] - bd[hb[1]+1]['a'][0])\n",
    "for j in range(Npts):\n",
    "    x[ndim*j:ndim*(j+1)] = bd[hb[1]+1]['x'] + 10 * np.sqrt(da) * rr * np.cos(2*np.pi*j/Npts + tt - tt[0])\n",
    "x[-1] = 2*np.pi/np.imag(ev[2])"
   ]
  },
  {
   "cell_type": "code",
   "execution_count": 22,
   "metadata": {},
   "outputs": [
    {
     "name": "stdout",
     "output_type": "stream",
     "text": [
      "221.671066177723\n",
      "38.75506909384654\n",
      "9.492401839045918\n",
      "2.834377457394159\n",
      "0.3840407945628004\n",
      "0.012361561168604063\n",
      "1.561331546138094e-05\n",
      "2.3333085740644462e-11\n",
      "1.2146450965404943e-13\n",
      "1.1525803096437134e-13\n",
      "[ 2.18171565 -0.06179968  1.64889586 ...  1.02953799  0.11269814\n",
      "  8.37710252]\n"
     ]
    }
   ],
   "source": [
    "y = np.copy(x)\n",
    "a = bd[hb[1]+1]['a']\n",
    "for m in range(10):\n",
    "    b = func(y, a)\n",
    "    A = dfdx(y, a)\n",
    "    y -= solve(A, b)\n",
    "    print(np.linalg.norm(b))\n",
    "# x = np.copy(y)\n",
    "print(y)"
   ]
  },
  {
   "cell_type": "code",
   "execution_count": 23,
   "metadata": {},
   "outputs": [
    {
     "name": "stdout",
     "output_type": "stream",
     "text": [
      "# TY a x\n",
      "R 15.479795715277916 2.242487310871312\n",
      "R 15.604761308343631 2.3037879155139023\n",
      "R 15.743785447658283 2.365519463502451\n",
      "R 15.898413922898849 2.427522062616748\n",
      "R 16.070143566987824 2.4895574367865914\n",
      "R 16.260288561045023 2.551296478615954\n",
      "R 16.46982106403574 2.6123157299616686\n",
      "R 16.699209156915394 2.6721081456358116\n",
      "R 16.948290013269297 2.730111442404906\n",
      "R 17.216219996699994 2.7857521449147766\n",
      "R 17.50152680308135 2.838496792611115\n",
      "R 17.80225490813407 2.887897568062669\n",
      "R 18.11616253487907 2.9336211033567934\n",
      "R 18.44091575309281 2.9754557792379317\n",
      "R 18.774237400286516 3.0133002830952353\n",
      "R 19.113992933493094 3.0471405943782104\n",
      "R 19.458216662313777 3.0770229794562898\n",
      "R 19.805092764904618 3.1030285342452006\n",
      "R 20.15290730131376 3.1252522734495405\n",
      "R 20.499984764893888 3.143787870303981\n",
      "R 20.844619578333603 3.158718156309916\n",
      "R 21.185011564304244 3.1701111820325685\n",
      "R 21.5192154932498 3.1780216647633623\n",
      "R 21.84511779015781 3.182497647301732\n",
      "R 22.16045636602878 3.183591831356231\n",
      "R 22.46289853394146 3.1813761026339833\n",
      "R 22.750182386436382 3.175956327467196\n",
      "R 23.020306884806335 3.1674832359854275\n",
      "R 23.27173123186542 3.1561552346924997\n",
      "R 23.50352954743089 3.1422110736254005\n",
      "R 23.71545603190365 3.1259138009423237\n",
      "R 23.907907071376098 3.107530418479041\n",
      "R 24.081801776142257 3.0873123965790383\n",
      "R 24.23842184477819 3.0654806904424277\n",
      "R 24.37925010431338 3.0422164989903573\n",
      "R 24.505832847627982 3.017657109937258\n",
      "R 24.619675316281644 2.9918953164106346\n",
      "R 24.722168737613778 2.9649808777656763\n",
      "R 24.814542229934396 2.9369229113937565\n",
      "R 24.89783200595342 2.907692626123872\n",
      "R 24.97286168693247 2.877226294555743\n",
      "R 25.04022987860055 2.845428778063827\n",
      "R 25.10030381601312 2.8121782681362464\n",
      "R 25.15322058756551 2.7773331710531584\n",
      "R 25.198899928984275 2.7407421498412794\n",
      "R 25.23707422395032 2.702258064858561\n",
      "R 25.267340992571945 2.661755684210366\n",
      "R 25.28923929916076 2.619151444048863\n",
      "R 25.3023434376441 2.5744215360235323\n",
      "R 25.30635684128429 2.527613181437801\n",
      "R 25.3011818899871 2.478844497062738\n",
      "R 25.286943694923515 2.428291495260853\n",
      "R 25.263959716206188 2.3761652670105087\n",
      "R 25.232665537820345 2.3226856792361197\n",
      "R 25.193519698660943 2.268058141814384\n",
      "R 25.146911431038877 2.2124575810596006\n",
      "R 25.093087095291743 2.1560206239121276\n",
      "R 25.032100732953072 2.0988447901941223\n",
      "R 24.96378657944373 2.040992671790162\n",
      "R 24.88774804034622 1.9824992613806198\n",
      "R 24.803357617939415 1.9233812061085471\n",
      "R 24.709764081292942 1.8636474059691508\n",
      "R 24.605905706359007 1.8033108694712405\n",
      "R 24.490531119069644 1.742402016336929\n",
      "R 24.36223190466128 1.680983638295513\n",
      "R 24.21949340324747 1.6191674219358332\n",
      "R 24.060771287637326 1.5571311928039027\n",
      "R 23.884600218783017 1.49513478013799\n",
      "R 23.689735128527342 1.4335307591379103\n",
      "R 23.47531404602982 1.372764910603138\n",
      "R 23.241015400170717 1.3133612659762348\n",
      "R 22.987169448317808 1.255889444347047\n",
      "R 22.714784172506793 1.2009178037993509\n",
      "R 22.425467783681142 1.1489623775890536\n",
      "R 22.121265708274258 1.1004445510045209\n",
      "R 21.80445936972154 1.055667447687902\n",
      "R 21.477380190527736 1.0148137629868001\n",
      "R 21.1422755711545 0.9779608118036632\n",
      "R 20.801238713450573 0.945105181486378\n",
      "R 20.456195100665354 0.9161897674649613\n",
      "R 20.108930097448813 0.8911282968261641\n",
      "R 19.761141883015426 0.8698248916290037\n",
      "R 19.414507025306253 0.852187894144838\n",
      "R 19.07074884237671 0.8381379716971629\n",
      "R 18.731699483536953 0.827610710774837\n",
      "R 18.39934501944253 0.8205538589957457\n",
      "R 18.075839621283965 0.8169194347469034\n",
      "R 17.763472567374205 0.816651416542574\n",
      "R 17.4645745261426 0.8196708194956035\n",
      "R 17.181361795643674 0.8258614470440045\n",
      "R 16.915739382377026 0.8350606608647257\n",
      "R 16.669107550338637 0.8470590072144241\n",
      "R 16.44222603964551 0.8616099787810756\n",
      "R 16.23517459376207 0.8784476076357106\n",
      "R 16.047414140336056 0.897307049277103\n",
      "R 15.87792038000498 0.917943203021692\n",
      "R 15.725347483121947 0.9401443018398629\n",
      "R 15.588185348418302 0.9637397837335062\n",
      "R 15.464889412167558 0.9886034109568312\n",
      "R 15.35397692712345 1.0146532176476604\n"
     ]
    }
   ],
   "source": [
    "x = np.copy(y)\n",
    "bdc3=pf.pathfollow00(x, a, func, dfdx, dfda, nmax=100, h=1.0, epsr=1.0e-10, epsb=1.0e-10)"
   ]
  },
  {
   "cell_type": "code",
   "execution_count": 24,
   "metadata": {},
   "outputs": [],
   "source": [
    "bdc3_r = np.array([bdc3[m]['a'][0] for m in range(len(bdc3))])\n",
    "bdc3_xmax = np.array([np.max(bdc3[m]['x'][:-1:2*ndim]) for m in range(len(bdc3))])\n",
    "bdc3_xmin = np.array([np.min(bdc3[m]['x'][:-1:2*ndim]) for m in range(len(bdc3))])"
   ]
  },
  {
   "cell_type": "code",
   "execution_count": 25,
   "metadata": {},
   "outputs": [
    {
     "name": "stdout",
     "output_type": "stream",
     "text": [
      "# TY a x\n",
      "R 15.266182304159859 2.1215254683708014\n",
      "R 15.17495465295698 2.061942597852163\n",
      "R 15.092699864255659 2.0029778100725113\n",
      "R 15.018620902727678 1.9446408384243439\n",
      "R 14.952146841298282 1.8869519061602082\n",
      "R 14.892938435406753 1.8299520119460102\n",
      "R 14.840885759690321 1.7737117777063174\n",
      "R 14.796093655983576 1.7183381293914384\n",
      "R 14.75884926387541 1.66397742245762\n",
      "R 14.729566603455954 1.6108130742568296\n",
      "R 14.708707533368191 1.5590557767262059\n",
      "R 14.696686933268749 1.5089255060583615\n",
      "R 14.693780346223567 1.4606270593697634\n",
      "R 14.700058734811721 1.4143239813502462\n",
      "R 14.715371158008356 1.3701176627653655\n",
      "R 14.73938132795558 1.32803738051343\n",
      "R 14.771645704783905 1.288043243160415\n",
      "R 14.811709479155946 1.2500396203198485\n",
      "R 14.859197206429176 1.2138940875860889\n",
      "R 14.91388356376031 1.179456958151343\n",
      "R 14.975739930760861 1.1465781598948601\n",
      "R 15.044959575765315 1.115120187124103\n",
      "R 15.121967091604418 1.084967279061345\n",
      "R 15.207417445921998 1.05603168107855\n",
      "R 15.302188070433758 1.0282580069259948\n",
      "R 15.407364839164655 1.001626575773519\n",
      "R 15.52422007756489 0.9761563075695895\n",
      "R 15.654178138655599 0.9519073935169466\n",
      "R 15.798761906594958 0.9289835250475422\n",
      "R 15.959512621637105 0.9075329639136223\n",
      "R 16.13787714746814 0.8877472220731347\n",
      "R 16.335063212093218 0.869855778083853\n",
      "R 16.551875483930047 0.8541154404994162\n",
      "R 16.78856149804935 0.8407940786767233\n",
      "R 17.044708665799064 0.8301505361989995\n",
      "R 17.319230537149366 0.8224148669310591\n",
      "R 17.610456284584664 0.8177740961451485\n",
      "R 17.91630120422937 0.816367359814756\n",
      "R 18.234468771174168 0.8182909783671638\n",
      "R 18.562631835387048 0.8236107088461888\n",
      "R 18.89855910575904 0.8323768319420605\n",
      "R 19.240177851956318 0.8446381149993328\n",
      "R 19.585581582688835 0.860452095541169\n",
      "R 19.932998603103737 0.8798904893409836\n",
      "R 20.28073695394084 0.9030393255047201\n",
      "R 20.627118017537377 0.929993657731106\n",
      "R 20.97040842195929 0.9608466641317258\n",
      "R 21.308759385101354 0.995672971216008\n",
      "R 21.640164544997397 1.034506482329698\n",
      "R 21.96245059213066 1.077314192913356\n"
     ]
    }
   ],
   "source": [
    "x = np.copy(y)\n",
    "bdc4=pf.pathfollow00(x, a, func, dfdx, dfda, nmax=50, h=-1.0, epsr=1.0e-10, epsb=1.0e-10)"
   ]
  },
  {
   "cell_type": "code",
   "execution_count": 26,
   "metadata": {},
   "outputs": [],
   "source": [
    "bdc4_r = np.array([pt['a'][0] for pt in bdc4])\n",
    "bdc4_xmax = np.array([np.max(pt['x'][:-1:2*ndim]) for pt in bdc4])\n",
    "bdc4_xmin = np.array([np.min(pt['x'][:-1:2*ndim]) for pt in bdc4])"
   ]
  },
  {
   "cell_type": "code",
   "execution_count": 27,
   "metadata": {},
   "outputs": [
    {
     "data": {
      "text/plain": [
       "<matplotlib.legend.Legend at 0x1ee78d239d0>"
      ]
     },
     "execution_count": 27,
     "metadata": {},
     "output_type": "execute_result"
    },
    {
     "data": {
      "image/png": "[encoded data removed]",
      "text/plain": [
       "<Figure size 576x360 with 1 Axes>"
      ]
     },
     "metadata": {},
     "output_type": "display_data"
    }
   ],
   "source": [
    "fig = plt.figure(figsize=(8,5))\n",
    "ax = fig.add_subplot(111)\n",
    "ax.set_xlim(0, 40)\n",
    "ax.set_ylim(0,4)\n",
    "ax.set_xlabel(\"L\")\n",
    "ax.plot(bd_r, bd_x, '-k')\n",
    "ax.plot(bd_r[hb], bd_x[hb], 'xk', label=\"HB\")\n",
    "ax.plot(bdc_r[:93], bdc_xmax[:93], '--k')\n",
    "ax.plot(bdc_r[:93], bdc_xmin[:93], '--k')\n",
    "ax.plot(bdc2_r[:31], bdc2_xmax[:31], '--k')\n",
    "ax.plot(bdc2_r[:31], bdc2_xmin[:31], '--k')\n",
    "ax.plot(bdc3_r[:50], bdc3_xmax[:50], '--k')\n",
    "ax.plot(bdc3_r[:50], bdc3_xmin[:50], '--k')\n",
    "ax.plot(bdc4_r[:13], bdc4_xmax[:13], '--k')\n",
    "ax.plot(bdc4_r[:13], bdc4_xmin[:13], '--k')\n",
    "ax.legend()\n",
    "# plt.savefig(\"bd_OV.pdf\", bbox_inches='tight')"
   ]
  }
 ],
 "metadata": {
  "file_extension": ".py",
  "kernelspec": {
   "display_name": "Python 3",
   "language": "python",
   "name": "python3"
  },
  "language_info": {
   "codemirror_mode": {
    "name": "ipython",
    "version": 3
   },
   "file_extension": ".py",
   "mimetype": "text/x-python",
   "name": "python",
   "nbconvert_exporter": "python",
   "pygments_lexer": "ipython3",
   "version": "3.9.0"
  },
  "mimetype": "text/x-python",
  "name": "python",
  "npconvert_exporter": "python",
  "pygments_lexer": "ipython3",
  "version": 3
 },
 "nbformat": 4,
 "nbformat_minor": 2
}
