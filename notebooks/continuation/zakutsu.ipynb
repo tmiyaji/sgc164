{
 "cells": [
  {
   "cell_type": "markdown",
   "metadata": {},
   "source": [
    "# 座屈の問題"
   ]
  },
  {
   "cell_type": "code",
   "execution_count": 1,
   "metadata": {},
   "outputs": [],
   "source": [
    "import numpy as np\n",
    "import pathfollowing as pf\n",
    "import matplotlib.pyplot as plt\n",
    "import seaborn as sns\n",
    "%matplotlib inline\n",
    "sns.set('poster', 'whitegrid', 'dark', rc={\"lines.linewidth\": 2, 'grid.linestyle': '-'})"
   ]
  },
  {
   "cell_type": "markdown",
   "metadata": {},
   "source": [
    "## $n = 1$の場合\n",
    "\n",
    "$$\n",
    "    4x - a \\sin x = 0\n",
    "$$"
   ]
  },
  {
   "cell_type": "code",
   "execution_count": 2,
   "metadata": {},
   "outputs": [],
   "source": [
    "def func(x, a):\n",
    "    return np.array([4 * x[0] - a[0] * np.sin(x[0])])\n",
    "\n",
    "def dfdx(x, a):\n",
    "    return np.array([[4 - a[0] * np.cos(x[0])]])\n",
    "\n",
    "def dfda(x,a):\n",
    "    return np.array([[-np.sin(x[0])]])"
   ]
  },
  {
   "cell_type": "code",
   "execution_count": 3,
   "metadata": {},
   "outputs": [],
   "source": [
    "x=np.array([0.0])\n",
    "a=np.array([1.0])\n",
    "bd,bp,lp=pf.pathfollow(x, a, func, dfdx, dfda,nmax=200, h=0.05, epsr=1.0e-10, epsb=1.0e-10, quiet=True)"
   ]
  },
  {
   "cell_type": "markdown",
   "metadata": {},
   "source": [
    "$(x, a) = (0, 4)$が分岐点である"
   ]
  },
  {
   "cell_type": "code",
   "execution_count": 4,
   "metadata": {},
   "outputs": [
    {
     "data": {
      "text/plain": [
       "{'TY': 'B',\n",
       " 'x': array([0.]),\n",
       " 'a': array([4.]),\n",
       " 'v': array([0., 1.]),\n",
       " 'phi': array([1., 0.])}"
      ]
     },
     "execution_count": 4,
     "metadata": {},
     "output_type": "execute_result"
    }
   ],
   "source": [
    "bd[bp[0]]"
   ]
  },
  {
   "cell_type": "markdown",
   "metadata": {},
   "source": [
    "追跡の枝を切り替える"
   ]
  },
  {
   "cell_type": "code",
   "execution_count": 5,
   "metadata": {},
   "outputs": [],
   "source": [
    "v2 = pf.calcSwitchingVectorBP(bd[bp[0]], func, dfdx, dfda)\n",
    "x2=bd[bp[0]]['x']\n",
    "a2=bd[bp[0]]['a']\n",
    "bd2,bp2,lp2=pf.pathfollow(x2, a2, func, dfdx, dfda, w=v2, nmax=110, h=-0.05, epsr=1.0e-10, epsb=1.0e-10, quiet=True)\n",
    "bd3,bp3,lp3=pf.pathfollow(x2, a2, func, dfdx, dfda, w=v2, nmax=110, h=0.05, epsr=1.0e-10, epsb=1.0e-10, quiet=True)"
   ]
  },
  {
   "cell_type": "code",
   "execution_count": 6,
   "metadata": {},
   "outputs": [],
   "source": [
    "bd_r = np.array([bd[m]['a'][0] for m in range(len(bd))])\n",
    "bd_x = np.array([bd[m]['x'][0] for m in range(len(bd))])\n",
    "bd_r2 = np.array([bd2[m]['a'][0] for m in range(len(bd2))])\n",
    "bd_x2 = np.array([bd2[m]['x'][0] for m in range(len(bd2))])\n",
    "bd_r3 = np.array([bd3[m]['a'][0] for m in range(len(bd3))])\n",
    "bd_x3 = np.array([bd3[m]['x'][0] for m in range(len(bd3))])"
   ]
  },
  {
   "cell_type": "code",
   "execution_count": 7,
   "metadata": {},
   "outputs": [
    {
     "data": {
      "text/plain": [
       "[<matplotlib.lines.Line2D at 0x2227bb39b20>]"
      ]
     },
     "execution_count": 7,
     "metadata": {},
     "output_type": "execute_result"
    },
    {
     "data": {
      "image/png": "[encoded data removed]",
      "text/plain": [
       "<Figure size 576x360 with 1 Axes>"
      ]
     },
     "metadata": {},
     "output_type": "display_data"
    }
   ],
   "source": [
    "fig = plt.figure(figsize=(8, 5))\n",
    "ax = fig.add_subplot(111)\n",
    "ax.set_xlim(2,7)\n",
    "ax.set_ylim(-2, 2)\n",
    "ax.set_xlabel(r\"$\\lambda$\")\n",
    "ax.set_ylabel(\"$u_0$\")\n",
    "ax.plot(bd_r, bd_x, '-k')\n",
    "ax.plot(bd_r2, bd_x2, '-k')\n",
    "ax.plot(bd_r3, bd_x3, '-k')\n",
    "# plt.savefig(\"bd_buckling1.pdf\", bbox_inches='tight')"
   ]
  },
  {
   "cell_type": "markdown",
   "metadata": {},
   "source": [
    "## 一般の$n$の場合（$n = 101$）\n",
    "\n",
    "$$\n",
    "\\begin{aligned}\n",
    "u_0 - u_1 - \\frac{\\lambda\\Delta s^2}{2}\\sin u_0 &= 0 \\\\\n",
    "-u_{k-1} + 2 u_k - u_{k+1} - \\lambda \\Delta s^2 \\sin u_k &= 0,\\quad (1 \\leq k \\leq n-1),\\\\\n",
    "-u_{n-1} + u_n - \\frac{\\lambda\\Delta s^2}{2} \\sin u_n &= 0.\n",
    "\\end{aligned}\n",
    "$$"
   ]
  },
  {
   "cell_type": "code",
   "execution_count": 8,
   "metadata": {},
   "outputs": [],
   "source": [
    "n = 101\n",
    "ds = 1.0 / (n-1)"
   ]
  },
  {
   "cell_type": "code",
   "execution_count": 9,
   "metadata": {},
   "outputs": [],
   "source": [
    "def func(x, a):\n",
    "    n = len(x)\n",
    "    A = 2 * np.identity(n)\n",
    "    for m in range(n-1):\n",
    "        A[m,m+1] = -2.0 if m==0 else -1.0\n",
    "        A[m+1,m] = -2.0 if m==n-2 else -1.0\n",
    "    return A @ x - a[0] * (ds**2) * np.sin(x)\n",
    "\n",
    "def dfdx(x, a):\n",
    "    n = len(x)\n",
    "    A = 2 * np.identity(n)\n",
    "    for m in range(n-1):\n",
    "        A[m,m+1] = -2.0 if m==0 else -1.0\n",
    "        A[m+1,m] = -2.0 if m==n-2 else -1.0\n",
    "    D = np.diag(np.cos(x))\n",
    "    return A - a[0] * (ds**2) * D\n",
    "\n",
    "def dfda(x,a):\n",
    "    return np.array([[-(ds**2) * np.sin(y) for y in x]])"
   ]
  },
  {
   "cell_type": "code",
   "execution_count": 11,
   "metadata": {},
   "outputs": [],
   "source": [
    "x=np.zeros(n)\n",
    "a=np.array([1.0])\n",
    "bd,bp,lp=pf.pathfollow(x, a, func, dfdx, dfda,nmax=1000, h=0.1, epsr=1.0e-10, epsb=1.0e-10, quiet=True)"
   ]
  },
  {
   "cell_type": "markdown",
   "metadata": {},
   "source": [
    "分岐点が複数現れる"
   ]
  },
  {
   "cell_type": "code",
   "execution_count": 12,
   "metadata": {},
   "outputs": [
    {
     "name": "stdout",
     "output_type": "stream",
     "text": [
      "89 [9.86879269]\n",
      "386 [39.46543143]\n",
      "880 [88.76070794]\n"
     ]
    }
   ],
   "source": [
    "for i in bp:\n",
    "    print(i,bd[i]['a'])"
   ]
  },
  {
   "cell_type": "markdown",
   "metadata": {},
   "source": [
    "一つ目の分岐点から切り替え"
   ]
  },
  {
   "cell_type": "code",
   "execution_count": 13,
   "metadata": {},
   "outputs": [],
   "source": [
    "v02 = pf.calcSwitchingVectorBP(bd[bp[0]], func, dfdx, dfda)\n",
    "x02=bd[bp[0]]['x']\n",
    "a02=bd[bp[0]]['a']\n",
    "bd02,bp02,lp02=pf.pathfollow(x02, a02, func, dfdx, dfda, w=v02, nmax=1000, h=0.1, epsr=1.0e-10, epsb=1.0e-10, quiet=True)"
   ]
  },
  {
   "cell_type": "markdown",
   "metadata": {},
   "source": [
    "二つ目の分岐点から切り替え"
   ]
  },
  {
   "cell_type": "code",
   "execution_count": 14,
   "metadata": {},
   "outputs": [],
   "source": [
    "v12 = pf.calcSwitchingVectorBP(bd[bp[1]], func, dfdx, dfda)\n",
    "x12=bd[bp[1]]['x']\n",
    "a12=bd[bp[1]]['a']\n",
    "bd12,bp12,lp12=pf.pathfollow(x12, a12, func, dfdx, dfda, w=v12, nmax=1000, h=0.1, epsr=1.0e-10, epsb=1.0e-10, quiet=True)"
   ]
  },
  {
   "cell_type": "markdown",
   "metadata": {},
   "source": [
    "三つ目の分岐点から切り替え"
   ]
  },
  {
   "cell_type": "code",
   "execution_count": 15,
   "metadata": {},
   "outputs": [],
   "source": [
    "v22 = pf.calcSwitchingVectorBP(bd[bp[2]], func, dfdx, dfda)\n",
    "x22=bd[bp[2]]['x']\n",
    "a22=bd[bp[2]]['a']\n",
    "bd22,bp22,lp22=pf.pathfollow(x22, a22, func, dfdx, dfda, w=v22, nmax=200, h=0.1, epsr=1.0e-10, epsb=1.0e-10, quiet=True)"
   ]
  },
  {
   "cell_type": "code",
   "execution_count": 16,
   "metadata": {},
   "outputs": [],
   "source": [
    "bd_r = np.array([bd[m]['a'][0] for m in range(len(bd))])\n",
    "bd_x = np.array([np.linalg.norm(bd[m]['x'], ord=np.inf) for m in range(len(bd))])\n",
    "bd_r02 = np.array([bd02[m]['a'][0] for m in range(len(bd02))])\n",
    "bd_x02 = np.array([np.linalg.norm(bd02[m]['x'], ord=np.inf) for m in range(len(bd02))])\n",
    "bd_r12 = np.array([bd12[m]['a'][0] for m in range(len(bd12))])\n",
    "bd_x12 = np.array([np.linalg.norm(bd12[m]['x'],ord=np.inf) for m in range(len(bd12))])\n",
    "bd_r22 = np.array([bd22[m]['a'][0] for m in range(len(bd22))])\n",
    "bd_x22 = np.array([np.linalg.norm(bd22[m]['x'],ord=np.inf) for m in range(len(bd22))])"
   ]
  },
  {
   "cell_type": "code",
   "execution_count": 17,
   "metadata": {},
   "outputs": [
    {
     "data": {
      "text/plain": [
       "[<matplotlib.lines.Line2D at 0x2227ca05130>]"
      ]
     },
     "execution_count": 17,
     "metadata": {},
     "output_type": "execute_result"
    },
    {
     "data": {
      "image/png": "[encoded data removed]",
      "text/plain": [
       "<Figure size 576x360 with 1 Axes>"
      ]
     },
     "metadata": {},
     "output_type": "display_data"
    }
   ],
   "source": [
    "fig = plt.figure(figsize=(8, 5))\n",
    "ax = fig.add_subplot(111)\n",
    "ax.set_xlim(0,100)\n",
    "ax.set_xlabel(r\"$\\lambda$\")\n",
    "ax.set_ylabel(\"$\\max|u|$\")\n",
    "ax.plot(bd_r, bd_x, '-k')\n",
    "ax.plot(bd_r02, bd_x02, '-k')\n",
    "ax.plot(bd_r12, bd_x12, '-k')\n",
    "ax.plot(bd_r22, bd_x22, '-k')\n",
    "# plt.savefig(\"bd_buckling100.pdf\", bbox_inches='tight')"
   ]
  }
 ],
 "metadata": {
  "file_extension": ".py",
  "kernelspec": {
   "display_name": "Python 3",
   "language": "python",
   "name": "python3"
  },
  "language_info": {
   "codemirror_mode": {
    "name": "ipython",
    "version": 3
   },
   "file_extension": ".py",
   "mimetype": "text/x-python",
   "name": "python",
   "nbconvert_exporter": "python",
   "pygments_lexer": "ipython3",
   "version": "3.9.0"
  },
  "mimetype": "text/x-python",
  "name": "python",
  "npconvert_exporter": "python",
  "pygments_lexer": "ipython3",
  "version": 3
 },
 "nbformat": 4,
 "nbformat_minor": 2
}
