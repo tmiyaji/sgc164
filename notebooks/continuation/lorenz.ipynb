{
 "cells": [
  {
   "cell_type": "markdown",
   "metadata": {},
   "source": [
    "# Lorenz system\n",
    "\n",
    "$$\n",
    "\\dot{x} = s(y - x),\\quad \\dot{y} = x (r - z) - y, \\quad \\dot{z} = xy - bz\n",
    "$$\n",
    "ローレンツ方程式の平衡点を追跡する"
   ]
  },
  {
   "cell_type": "code",
   "execution_count": 1,
   "metadata": {},
   "outputs": [],
   "source": [
    "import numpy as np\n",
    "import pathfollowing as pf\n",
    "import matplotlib.pyplot as plt\n",
    "import seaborn as sns\n",
    "%matplotlib inline\n",
    "sns.set('poster', 'whitegrid', 'dark', rc={\"lines.linewidth\": 2, 'grid.linestyle': '-'})\n",
    "import warnings\n",
    "warnings.filterwarnings('ignore')"
   ]
  },
  {
   "cell_type": "code",
   "execution_count": 2,
   "metadata": {},
   "outputs": [],
   "source": [
    "def func(x, a):\n",
    "    s = 10.0\n",
    "    b = 8.0/3.0\n",
    "    r = a[0]\n",
    "    return np.array([s*(x[1]-x[0]), x[0]*(r - x[2])-x[1], x[0]*x[1]-b*x[2]])\n",
    "\n",
    "def dfdx(x, a):\n",
    "    s = 10.0\n",
    "    b = 8.0/3.0\n",
    "    r = a[0]\n",
    "    return np.array([[-s,s,0.0],[r-x[2],-1.0,-x[0]], [x[1],x[0],-b]])\n",
    "\n",
    "def dfda(x,a):\n",
    "    return np.array([0.0, x[0], 0.0])"
   ]
  },
  {
   "cell_type": "markdown",
   "metadata": {},
   "source": [
    "平衡点の追跡"
   ]
  },
  {
   "cell_type": "code",
   "execution_count": 3,
   "metadata": {},
   "outputs": [
    {
     "name": "stdout",
     "output_type": "stream",
     "text": [
      "BP: [20]\n",
      "LP: []\n",
      "HB: []\n"
     ]
    }
   ],
   "source": [
    "x=np.array([0.0, 0.0, 0.0])\n",
    "a=np.array([0.0])\n",
    "bd,bp,lp,hb=pf.pathfollow(x, a, func, dfdx, dfda,nmax=100, h=0.05, epsr=1.0e-10, epsb=1.0e-10, problem='equilibria', quiet=True)\n",
    "print(\"BP:\", bp)\n",
    "print(\"LP:\", lp)\n",
    "print(\"HB:\", hb)"
   ]
  },
  {
   "cell_type": "markdown",
   "metadata": {},
   "source": [
    "非自明平衡点の枝に切り替え"
   ]
  },
  {
   "cell_type": "code",
   "execution_count": 4,
   "metadata": {},
   "outputs": [],
   "source": [
    "v2 = pf.calcSwitchingVectorBP(bd[bp[0]], func, dfdx, dfda)\n",
    "x2=bd[bp[0]]['x']\n",
    "a2=bd[bp[0]]['a']\n",
    "bd2,bp2,lp2,hb2=pf.pathfollow(x2, a2, func, dfdx, dfda, w=v2, nmax=110, h=-0.05, epsr=1.0e-10, epsb=1.0e-10, problem='equilibria',quiet=True)\n",
    "bd3,bp3,lp3,hb3=pf.pathfollow(x2, a2, func, dfdx, dfda, w=v2, nmax=110, h=0.05, epsr=1.0e-10, epsb=1.0e-10,problem='equilibria',quiet=True)"
   ]
  },
  {
   "cell_type": "code",
   "execution_count": 5,
   "metadata": {},
   "outputs": [],
   "source": [
    "bd_r = np.array([bd[m]['a'][0] for m in range(len(bd))])\n",
    "bd_x = np.array([bd[m]['x'][0] for m in range(len(bd))])\n",
    "bd_r2 = np.array([bd2[m]['a'][0] for m in range(len(bd2))])\n",
    "bd_x2 = np.array([bd2[m]['x'][0] for m in range(len(bd2))])\n",
    "bd_r3 = np.array([bd3[m]['a'][0] for m in range(len(bd3))])\n",
    "bd_x3 = np.array([bd3[m]['x'][0] for m in range(len(bd3))])"
   ]
  },
  {
   "cell_type": "code",
   "execution_count": 6,
   "metadata": {},
   "outputs": [
    {
     "name": "stdout",
     "output_type": "stream",
     "text": [
      "[20] [] []\n",
      "[] [] []\n",
      "[] [] []\n"
     ]
    }
   ],
   "source": [
    "print(bp, lp, hb)\n",
    "print(bp2, lp2, hb2)\n",
    "print(bp3, lp3, hb3)"
   ]
  },
  {
   "cell_type": "code",
   "execution_count": 7,
   "metadata": {},
   "outputs": [
    {
     "name": "stdout",
     "output_type": "stream",
     "text": [
      "{'TY': 'B', 'x': array([0., 0., 0.]), 'a': array([1.]), 'v': array([-0.,  0., -0.,  1.]), 'phi': array([-0.09950372, -0.99503719,  0.        ,  0.        ]), 'udim': 1}\n",
      "{'TY': 'R', 'x': array([0., 0., 0.]), 'a': array([1.]), 'v': array([0.70710678, 0.70710678, 0.        , 0.        ]), 'udim': 1}\n",
      "{'TY': 'R', 'x': array([-0.03535534, -0.03535534,  0.00046875]), 'a': array([1.00046875]), 'v': array([ 0.70685832,  0.70685832, -0.01874341, -0.01874341]), 'udim': 0}\n"
     ]
    }
   ],
   "source": [
    "print(bd[bp[0]])\n",
    "print(bd2[0])\n",
    "print(bd2[1])"
   ]
  },
  {
   "cell_type": "code",
   "execution_count": 8,
   "metadata": {},
   "outputs": [
    {
     "data": {
      "text/plain": [
       "[<matplotlib.lines.Line2D at 0x20db7646cd0>]"
      ]
     },
     "execution_count": 8,
     "metadata": {},
     "output_type": "execute_result"
    },
    {
     "data": {
      "image/png": "[encoded data removed]",
      "text/plain": [
       "<Figure size 576x360 with 1 Axes>"
      ]
     },
     "metadata": {},
     "output_type": "display_data"
    }
   ],
   "source": [
    "fig = plt.figure(figsize=(8, 5))\n",
    "ax = fig.add_subplot(111)\n",
    "ax.set_xlim(0,3)\n",
    "ax.set_ylim(-3, 3)\n",
    "ax.set_xlabel(r\"$\\rho$\")\n",
    "ax.set_ylabel(\"$x$\")\n",
    "ax.plot(bd_r[:21], bd_x[:21], '-k')\n",
    "ax.plot(bd_r[20:], bd_x[20:], '--k')\n",
    "ax.plot(bd_r2, bd_x2, '-k')\n",
    "ax.plot(bd_r3, bd_x3, '-k')\n",
    "# plt.savefig(\"bd_lrz.pdf\", bbox_inches='tight')"
   ]
  },
  {
   "cell_type": "markdown",
   "metadata": {},
   "source": [
    "## Hopf分岐の検出"
   ]
  },
  {
   "cell_type": "code",
   "execution_count": 9,
   "metadata": {},
   "outputs": [],
   "source": [
    "x=np.array([0.0, 0.0, 0.0])\n",
    "a=np.array([0.0])\n",
    "bd,bp,lp,hb=pf.pathfollow(x, a, func, dfdx, dfda, nmax=300, h=0.1, epsr=1.0e-10, epsb=1.0e-10, problem='equilibria', quiet=True)"
   ]
  },
  {
   "cell_type": "markdown",
   "metadata": {},
   "source": [
    "非自明平衡点の枝へ切り替え"
   ]
  },
  {
   "cell_type": "code",
   "execution_count": 10,
   "metadata": {},
   "outputs": [],
   "source": [
    "v2 = pf.calcSwitchingVectorBP(bd[bp[0]], func, dfdx, dfda)\n",
    "x2=bd[bp[0]]['x']\n",
    "a2=bd[bp[0]]['a']\n",
    "bd2,bp2,lp2, hb2=pf.pathfollow(x2, a2, func, dfdx, dfda, w=v2, nmax=850, h=-0.05, epsr=1.0e-10, epsb=1.0e-10, problem='equilibria', quiet=True)\n",
    "# bd3,bp3,lp3=pf.pathfollow(x2, a2, func, dfdx, dfda, w=v2, nmax=110, h=0.05, epsr=1.0e-10, epsb=1.0e-10,problem='equilibria')"
   ]
  },
  {
   "cell_type": "markdown",
   "metadata": {},
   "source": [
    "分岐点とホップ分岐点の確認"
   ]
  },
  {
   "cell_type": "code",
   "execution_count": 11,
   "metadata": {},
   "outputs": [
    {
     "name": "stdout",
     "output_type": "stream",
     "text": [
      "[11] [728]\n"
     ]
    }
   ],
   "source": [
    "print(bp, hb2)"
   ]
  },
  {
   "cell_type": "code",
   "execution_count": 12,
   "metadata": {},
   "outputs": [],
   "source": [
    "bd_r = np.array([bd[m]['a'][0] for m in range(len(bd))])\n",
    "bd_x = np.array([bd[m]['x'][0] for m in range(len(bd))])\n",
    "bd_r2 = np.array([bd2[m]['a'][0] for m in range(len(bd2))])\n",
    "bd_x2 = np.array([bd2[m]['x'][0] for m in range(len(bd2))])\n",
    "# bd_r3 = np.array([bd3[m]['a'][0] for m in range(len(bd3))])\n",
    "# bd_x3 = np.array([bd3[m]['x'][0] for m in range(len(bd3))])"
   ]
  },
  {
   "cell_type": "code",
   "execution_count": 13,
   "metadata": {},
   "outputs": [
    {
     "data": {
      "text/plain": [
       "[<matplotlib.lines.Line2D at 0x20dbfa65640>]"
      ]
     },
     "execution_count": 13,
     "metadata": {},
     "output_type": "execute_result"
    },
    {
     "data": {
      "image/png": "[encoded data removed]",
      "text/plain": [
       "<Figure size 576x360 with 1 Axes>"
      ]
     },
     "metadata": {},
     "output_type": "display_data"
    }
   ],
   "source": [
    "fig = plt.figure(figsize=(8, 5))\n",
    "ax = fig.add_subplot(111)\n",
    "ax.set_xlim(0,30)\n",
    "ax.set_xlabel(r\"$\\rho$\")\n",
    "ax.set_ylabel(\"$x$\")\n",
    "ax.plot(bd_r[:11], bd_x[:11], '-k')\n",
    "ax.plot(bd_r[11:], bd_x[11:], '--k')\n",
    "ax.plot(bd_r2[:728], bd_x2[:728], '-k')\n",
    "ax.plot(bd_r2[728:], bd_x2[728:], '--k')\n",
    "# ax.plot(bd_r3, bd_x3, '-k')\n",
    "# plt.savefig(\"bd_lrz.pdf\", bbox_inches='tight')"
   ]
  }
 ],
 "metadata": {
  "kernelspec": {
   "display_name": "Python 3",
   "language": "python",
   "name": "python3"
  },
  "language_info": {
   "codemirror_mode": {
    "name": "ipython",
    "version": 3
   },
   "file_extension": ".py",
   "mimetype": "text/x-python",
   "name": "python",
   "nbconvert_exporter": "python",
   "pygments_lexer": "ipython3",
   "version": "3.9.0"
  }
 },
 "nbformat": 4,
 "nbformat_minor": 2
}
